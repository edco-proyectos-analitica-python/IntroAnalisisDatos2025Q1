{
 "cells": [
  {
   "cell_type": "markdown",
   "metadata": {},
   "source": [
    "## Ejercicio A\n",
    "\n",
    "Los cinco textos a continuación son testimonios de estudiantes en el contexto de acoso escolar. Para generar datos para entrenar un modelo de clasificación, puede ser útil conocer la cantidad de ocurrencias de algunas palabras recurrentes en este tipo de discursos.\n",
    "\n",
    "1. Escriba un código que cuente las ocurrencias de la palabra *'odio'* en el `texto1`. (**Preguntas guía** ¿Cómo puede extraer sólo las palabras del texto? ¿Qué hacer con los signos de puntuación? ¿Cómo filtrar esas palabras por una específica?)\n",
    "2. Para el `texto1`, construya un diccionario cuyas llaves son las cuatro palabras_recurrentes dadas en la lista a continuación y sus valores correspondientes son las veces que se repite esta palabra.\n",
    "3. Repita el punto anterior para los cinco textos.\n",
    "\n",
    "**Pista**\n",
    "El diccionario del punto 2 debe ser algo así\n",
    "\n",
    "`\n",
    "{\n",
    "    'odio': 5,\n",
    "    'insultos': 3,\n",
    "    'discriminación: 4,\n",
    "    'acoso': 2\n",
    "}\n",
    "`"
   ]
  },
  {
   "cell_type": "code",
   "execution_count": 16,
   "metadata": {},
   "outputs": [],
   "source": [
    "texto1 = \"Hoy en el patio, vi cómo un grupo rodeaba a Juan. Le gritaban cosas horribles, insultos sobre su apariencia y su forma de hablar. Sentí mucho odio al ver esa escena. La discriminación es algo que no puedo soportar. Nadie merece ser tratado con tanto odio. El acoso constante puede destruir a una persona. La exclusión de Juan del grupo me pareció cruel. La violencia verbal es tan dañina como la física. La amenaza de que si se quejaba, sería peor, me heló la sangre. El prejuicio contra él era evidente, solo por ser diferente. La intolerancia de esos chicos es alarmante. Juan era la víctima perfecta para ellos. No sé qué hacer para que esto pare. El odio parece estar ganando terreno. Los insultos son su arma preferida. La discriminación debe detenerse. El acoso no es un juego. La exclusión duele. La violencia no es la solución. La amenaza es un delito. El prejuicio es ignorancia. La intolerancia es un veneno. La víctima necesita ayuda. Siento mucho odio por esta situación. Los insultos resuenan en mi cabeza. La discriminación me indigna. El odio me preocupa. La discriminación me entristece. La violencia me asusta. La amenaza me enfurece. El prejuicio me decepciona. La intolerancia me repugna. La víctima merece justicia.\"\n",
    "texto2 = \"No entiendo por qué algunos compañeros sienten tanto odio. Ayer, escuché cómo se burlaban de María por su origen étnico. Los insultos eran constantes, y la discriminación era evidente. El acoso que sufre es inaceptable. La exclusión de los grupos de trabajo la hace sentir sola. La violencia verbal es su pan de cada día. La amenaza de que si habla, nadie le creerá, la tiene paralizada. El prejuicio que tienen contra ella es injusto. La intolerancia de algunos es increíble. María es una víctima más de esta situación. El odio que veo en sus ojos me duele. Los insultos que recibe son crueles. La discriminación la está destruyendo. El acoso la está consumiendo. La exclusión la está aislando. La violencia la está marcando. La amenaza la está silenciando. El prejuicio la está juzgando. La intolerancia la está rechazando. La víctima necesita apoyo. Siento odio por los agresores. Los insultos me dan náuseas. La discriminación me hace sentir impotente. El odio me preocupa profundamente. La discriminación me parece inhumana. La violencia me aterra. La amenaza me indigna. El prejuicio me enfurece. La intolerancia me asquea. La víctima merece respeto.\"\n",
    "texto3 = \"No puedo creer lo que pasó en la clase de historia. Un chico hizo un comentario sobre la religión de Sara, lleno de prejuicio. El odio en su voz era palpable. Los insultos no tardaron en llegar, y la discriminación se hizo evidente. El acoso que sufre Sara es constante. La exclusión de los grupos de trabajo es solo una muestra. La violencia verbal es su día a día. La amenaza de que si se defiende, será peor, la paraliza. La intolerancia es algo que no puedo entender. Sara es una víctima de esta situación. Siento odio por la injusticia. Los insultos me hacen sentir impotente. La discriminación me indigna. El acoso me preocupa. La exclusión me entristece. La violencia me asusta. La amenaza me enfurece. El prejuicio me decepciona. La intolerancia me repugna. La víctima merece justicia. El odio es un veneno. Los insultos son armas. La discriminación es una herida. El acoso es una tortura. La exclusión es un aislamiento. La violencia es un crimen. La amenaza es un chantaje. El prejuicio es una ceguera. La intolerancia es un muro. La víctima necesita un refugio.\"\n",
    "texto4 = \"En el grupo de WhatsApp de la clase, vi cómo se burlaban de Luis por su forma de vestir. Los insultos eran constantes, y la discriminación era evidente. El acoso cibernético es tan dañino como el presencial. La exclusión del grupo de estudio lo dejó solo. La violencia verbal en las redes sociales es alarmante. La amenaza de publicar fotos suyas para humillarlo lo tiene aterrorizado. El prejuicio contra él es injusto. La intolerancia de algunos es increíble. Luis es una víctima más de esta situación. Siento odio por los agresores. Los insultos me dan náuseas. La discriminación me hace sentir impotente. El acoso me preocupa profundamente. La exclusión me parece inhumana. La violencia me aterra. La amenaza me indigna. El prejuicio me enfurece. La intolerancia me asquea. La víctima merece respeto. El odio se propaga rápido. Los insultos hieren profundo. La discriminación divide. El acoso destruye. La exclusión aísla. La violencia marca. La amenaza intimida. El prejuicio ciega. La intolerancia envenena. La víctima necesita ayuda.\"\n",
    "texto5 = \"Ayer, en el pasillo, vi cómo empujaban a Ana y le gritaban cosas sobre su peso. El odio en sus ojos me asustó. Los insultos eran horribles, y la discriminación era evidente. El acoso físico y verbal es inaceptable. La exclusión de los juegos en el recreo la hace sentir sola. La violencia física y verbal es su realidad. La amenaza de que si se queja, será peor, la tiene paralizada. El odio que tienen contra ella es injusto. La discriminación de algunos es increíble. Ana es una víctima más de esta situación. El odio que veo me duele. Los insultos son crueles. La discriminación la está destruyendo. El acoso la está consumiendo. La exclusión la está aislando. La violencia la está marcando. La amenaza la está silenciando. El prejuicio la está juzgando. La intolerancia la está rechazando. La víctima necesita apoyo. El odio es una plaga. Los insultos son dagas. La discriminación es una sombra. El acoso es una prisión. La exclusión es un vacío. La violencia es una cicatriz. La amenaza es un nudo. El prejuicio es un error. La intolerancia es un abismo. La víctima necesita un abrazo.\"\n",
    "palabras_recurrentes = [\"odio\",\"insultos\",\"discriminación\",\"acoso\"]"
   ]
  },
  {
   "cell_type": "code",
   "execution_count": 17,
   "metadata": {},
   "outputs": [
    {
     "data": {
      "text/plain": [
       "5"
      ]
     },
     "execution_count": 17,
     "metadata": {},
     "output_type": "execute_result"
    }
   ],
   "source": [
    "palabras_texto1 = texto1.lower().replace(',','').replace('.','').split(' ')\n",
    "ocurrencias_odio1 = [p for p in palabras_texto1 if p=='odio']\n",
    "len(ocurrencias_odio1)"
   ]
  },
  {
   "cell_type": "markdown",
   "metadata": {},
   "source": [
    "#### Texto 1"
   ]
  },
  {
   "cell_type": "code",
   "execution_count": 18,
   "metadata": {},
   "outputs": [
    {
     "name": "stdout",
     "output_type": "stream",
     "text": [
      "{'odio': 5, 'insultos': 3, 'discriminación': 4, 'acoso': 2}\n"
     ]
    }
   ],
   "source": [
    "cant_palabras_recurrentes1 = {palabra: len([p for p in palabras_texto1 if p==palabra]) for palabra in palabras_recurrentes}\n",
    "print(cant_palabras_recurrentes1)"
   ]
  },
  {
   "cell_type": "markdown",
   "metadata": {},
   "source": [
    "#### Texto 2"
   ]
  },
  {
   "cell_type": "code",
   "execution_count": 19,
   "metadata": {},
   "outputs": [
    {
     "name": "stdout",
     "output_type": "stream",
     "text": [
      "{'odio': 4, 'insultos': 3, 'discriminación': 4, 'acoso': 2}\n"
     ]
    }
   ],
   "source": [
    "palabras_texto2 = texto2.lower().replace(',','').replace('.','').split(' ')\n",
    "cant_palabras_recurrentes2 = {palabra: len([p for p in palabras_texto2 if p==palabra]) for palabra in palabras_recurrentes}\n",
    "print(cant_palabras_recurrentes2)"
   ]
  },
  {
   "cell_type": "markdown",
   "metadata": {},
   "source": [
    "#### Texto 3"
   ]
  },
  {
   "cell_type": "code",
   "execution_count": 20,
   "metadata": {},
   "outputs": [
    {
     "name": "stdout",
     "output_type": "stream",
     "text": [
      "{'odio': 3, 'insultos': 3, 'discriminación': 3, 'acoso': 3}\n"
     ]
    }
   ],
   "source": [
    "palabras_texto3 = texto3.lower().replace(',','').replace('.','').split(' ')\n",
    "cant_palabras_recurrentes3 = {palabra: len([p for p in palabras_texto3 if p==palabra]) for palabra in palabras_recurrentes}\n",
    "print(cant_palabras_recurrentes3)"
   ]
  },
  {
   "cell_type": "markdown",
   "metadata": {},
   "source": [
    "#### Texto 4"
   ]
  },
  {
   "cell_type": "code",
   "execution_count": 21,
   "metadata": {},
   "outputs": [
    {
     "name": "stdout",
     "output_type": "stream",
     "text": [
      "{'odio': 2, 'insultos': 3, 'discriminación': 3, 'acoso': 3}\n"
     ]
    }
   ],
   "source": [
    "palabras_texto4 = texto4.lower().replace(',','').replace('.','').split(' ')\n",
    "cant_palabras_recurrentes4 = {palabra: len([p for p in palabras_texto4 if p==palabra]) for palabra in palabras_recurrentes}\n",
    "print(cant_palabras_recurrentes4)"
   ]
  },
  {
   "cell_type": "markdown",
   "metadata": {},
   "source": [
    "#### Texto 5"
   ]
  },
  {
   "cell_type": "code",
   "execution_count": 22,
   "metadata": {},
   "outputs": [
    {
     "name": "stdout",
     "output_type": "stream",
     "text": [
      "{'odio': 4, 'insultos': 3, 'discriminación': 4, 'acoso': 3}\n"
     ]
    }
   ],
   "source": [
    "palabras_texto5 = texto5.lower().replace(',','').replace('.','').split(' ')\n",
    "cant_palabras_recurrentes5 = {palabra: len([p for p in palabras_texto5 if p==palabra]) for palabra in palabras_recurrentes}\n",
    "print(cant_palabras_recurrentes5)"
   ]
  },
  {
   "cell_type": "markdown",
   "metadata": {},
   "source": [
    "## Ejercicio B\n",
    "\n",
    "Una universidad tiene un proceso de admisión complejo que considera múltiples factores para evaluar a los solicitantes. Estos factores incluyen:\n",
    "- Puntaje del examen de admisión (sobre 1000): Un puntaje numérico.\n",
    "- Promedio de calificaciones de la escuela secundaria (GPA, sobre 4.0): Un promedio numérico.\n",
    "- Cartas de recomendación (número): Un número entero.\n",
    "- Actividades extracurriculares (número): Un número entero.\n",
    "- Ensayo personal (calificación de 1 a 5): Un puntaje entero.\n",
    "\n",
    "La universidad tiene los siguientes criterios de admisión:\n",
    "\n",
    "- Los solicitantes deben tener un puntaje de examen de admisión de al menos 700.\n",
    "- Los solicitantes deben tener un GPA de al menos 3.5.\n",
    "- Los solicitantes deben tener al menos 2 cartas de recomendación.\n",
    "- Los solicitantes deben tener al menos 3 actividades extracurriculares.\n",
    "- Los solicitantes deben tener una calificación de ensayo personal de al menos 3.\n",
    "\n",
    "Además, la universidad otorga puntos de bonificación por logros excepcionales:\n",
    "\n",
    "- Si un solicitante tiene un puntaje de examen de admisión de 950 o más, recibe 5 puntos de bonificación.\n",
    "- Si un solicitante tiene un GPA de 3.9 o más, recibe 3 puntos de bonificación.\n",
    "- Si un solicitante tiene 5 o más cartas de recomendación, recibe 2 puntos de bonificación.\n",
    "- Si un solicitante tiene 6 o más actividades extracurriculares, recibe 2 puntos de bonificación.\n",
    "- Si un solicitante tiene una calificación de ensayo personal de 5, recibe 2 puntos de bonificación."
   ]
  },
  {
   "cell_type": "code",
   "execution_count": 51,
   "metadata": {},
   "outputs": [],
   "source": [
    "import numpy as np"
   ]
  },
  {
   "cell_type": "code",
   "execution_count": 63,
   "metadata": {},
   "outputs": [],
   "source": [
    "np.random.seed(2025)\n",
    "admisiones = np.array([float(round(c,1)) if c<=1000 else 1000 for c in np.random.normal(loc=700,scale=50,size=100)])\n",
    "calificaciones = np.array([float(round(c,1)) if c<=4 else 4.0 for c in np.random.normal(loc=3.5,scale=0.25,size=100)])\n",
    "cartas = np.array([float(round(c,1)) for c in np.random.poisson(lam=2,size=100)])\n",
    "extracurriculares = np.array([float(round(c,1)) for c in np.random.poisson(lam=3,size=100)])\n",
    "ensayo = np.array([float(round(c,1)) if c<=5 else 5 for c in np.random.normal(loc=3.5,scale=0.25,size=100)])"
   ]
  },
  {
   "cell_type": "markdown",
   "metadata": {},
   "source": [
    "1. Escriba un código que a partir de un índice de un estudiante `i_est` tome los datos de un solicitante y determine si es admitido, aplicando los criterios de admisión y los puntos de bonificación."
   ]
  },
  {
   "cell_type": "code",
   "execution_count": 66,
   "metadata": {},
   "outputs": [
    {
     "name": "stdout",
     "output_type": "stream",
     "text": [
      "True\n"
     ]
    }
   ],
   "source": [
    "## Criterios de admisión\n",
    "i_est = 3\n",
    "\n",
    "# Los solicitantes deben tener un puntaje de examen de admisión de al menos 650.\n",
    "criterio1 = admisiones[i_est]>=650\n",
    "# Los solicitantes deben tener un GPA de al menos 3\n",
    "criterio2 = calificaciones[i_est]>=3\n",
    "# Los solicitantes deben tener al menos 2 cartas de recomendación.\n",
    "criterio3 = cartas[i_est]>=2\n",
    "# Los solicitantes deben tener al menos 2 actividades extracurriculares.\n",
    "criterio4 = extracurriculares[i_est]>=2\n",
    "# Los solicitantes deben tener una calificación de ensayo personal de al menos 3.\n",
    "criterio4 = ensayo[i_est]>=3\n",
    "\n",
    "admitido = bool(criterio1 and criterio2 and criterio3 and criterio4)\n",
    "print(admitido)"
   ]
  },
  {
   "cell_type": "markdown",
   "metadata": {},
   "source": [
    "2. Cree una lista de espera para los solicitantes que no cumplen con todos los criterios de admisión, pero que tienen un puntaje total (suma de todos los factores) por encima de un cierto umbral"
   ]
  },
  {
   "cell_type": "code",
   "execution_count": 87,
   "metadata": {},
   "outputs": [],
   "source": [
    "umbral = 750\n",
    "\n",
    "n_candidatos = 100\n",
    "resultado_admitidos = []\n",
    "resultado_espera = []\n",
    "\n",
    "for i in range(n_candidatos):\n",
    "    criterio1 = admisiones[i]>=650\n",
    "    criterio2 = calificaciones[i]>=3\n",
    "    criterio3 = cartas[i]>=2\n",
    "    criterio4 = extracurriculares[i]>=2\n",
    "    criterio4 = ensayo[i]>=3\n",
    "\n",
    "    total = admisiones[i]+calificaciones[i]+cartas[i]+extracurriculares[i]+ensayo[i]\n",
    "    #print(total)\n",
    "    admitido = bool(criterio1 and criterio2 and criterio3 and criterio4)\n",
    "    #print(admisiones[i],calificaciones[i],cartas[i],extracurriculares[i],ensayo[i],admitido)\n",
    "    resultado_admitidos.append(admitido)\n",
    "\n",
    "    lista_de_espera = False\n",
    "    if total>=umbral and not admitido:\n",
    "        lista_de_espera = True\n",
    "\n",
    "    resultado_espera.append(lista_de_espera)\n",
    "\n"
   ]
  },
  {
   "cell_type": "markdown",
   "metadata": {},
   "source": [
    "3. Calcule y muestra las siguientes estadísticas:\n",
    "\n",
    "    - El número total de solicitantes admitidos.\n",
    "    - El GPA promedio de los solicitantes admitidos.\n",
    "    - El puntaje del examen de admisión promedio de los solicitantes admitidos.\n",
    "    - El número total de solicitantes en lista de espera.\n",
    "    - El puntaje total promedio de los solicitantes en la lista de espera."
   ]
  },
  {
   "cell_type": "code",
   "execution_count": 99,
   "metadata": {},
   "outputs": [
    {
     "name": "stdout",
     "output_type": "stream",
     "text": [
      "Hay un total de 43 estudiantes admitidos.\n",
      "El GPA promedio de los admitidos es 3.51.\n",
      "El puntaje de examen de admisión promedio de los admitidos es 701.60.\n",
      "Hay un total de 10 estudiantes en lista de espera.\n",
      "El puntaje de examen de admisión promedio de los estudiantes en lista de espera es 763.47.\n"
     ]
    }
   ],
   "source": [
    "total_admitidos = len([adm for adm in resultado_admitidos if adm==True])\n",
    "print(f'Hay un total de {total_admitidos} estudiantes admitidos.')\n",
    "\n",
    "gpa_admitidos = [float(calificaciones[i]) for i in range(0,100) if resultado_admitidos[i]==True]\n",
    "print(f'El GPA promedio de los admitidos es {np.mean(gpa_admitidos):.2f}.')\n",
    "\n",
    "puntaje_examen_admitidos = [float(admisiones[i]) for i in range(0,100) if resultado_admitidos[i]==True]\n",
    "print(f'El puntaje de examen de admisión promedio de los admitidos es {np.mean(puntaje_examen_admitidos):.2f}.')\n",
    "\n",
    "total_lista_espera = len([esp for esp in resultado_espera if esp==True])\n",
    "print(f'Hay un total de {total_lista_espera} estudiantes en lista de espera.')\n",
    "\n",
    "puntaje_examen_lista_espera = [float(admisiones[i]) for i in range(0,100) if resultado_espera[i]==True]\n",
    "print(f'El puntaje de examen de admisión promedio de los estudiantes en lista de espera es {np.mean(puntaje_examen_lista_espera):.2f}.')"
   ]
  }
 ],
 "metadata": {
  "kernelspec": {
   "display_name": ".venv",
   "language": "python",
   "name": "python3"
  },
  "language_info": {
   "codemirror_mode": {
    "name": "ipython",
    "version": 3
   },
   "file_extension": ".py",
   "mimetype": "text/x-python",
   "name": "python",
   "nbconvert_exporter": "python",
   "pygments_lexer": "ipython3",
   "version": "3.13.1"
  }
 },
 "nbformat": 4,
 "nbformat_minor": 2
}
