{
 "cells": [
  {
   "cell_type": "markdown",
   "metadata": {},
   "source": [
    "# **Introducción al análisis de datos en Python** \n",
    "#### Profesor: Juan Pablo Salas\n",
    "## Clase 6. Visualizaciones y repaso de Pandas"
   ]
  },
  {
   "cell_type": "markdown",
   "metadata": {},
   "source": [
    "### Introducción a la libreria seaborn"
   ]
  },
  {
   "cell_type": "code",
   "execution_count": 167,
   "metadata": {},
   "outputs": [],
   "source": [
    "import pandas as pd\n",
    "pd.set_option('future.no_silent_downcasting', True)\n",
    "import seaborn as sns\n",
    "import matplotlib.pyplot as plt\n",
    "sns.set_theme(style=\"darkgrid\")"
   ]
  },
  {
   "cell_type": "markdown",
   "metadata": {},
   "source": [
    "A continuación trabajaremos con algunos datos de propiedades de finca raíz en Colombia. Estos fueron extraidos de una página de clasificados donde cada usuario podía poner anuncios de venta o arriendo de distintos tipos de propiedades. Las columnas relevantes con las que se cuenta en esta base son:\n",
    "\n",
    "- `start_date` y `end_date`: La fecha de inicio y de fin de la publicación\n",
    "- `created_on`: La fecha en la que se realizó la publicación\n",
    "- `lat` y `lon`: Las coordenadas geográficas de la propiedad ofertada\n",
    "- `l1`: EL país de la propiedad ofertada\n",
    "- `l2`: EL departamento/estado de la propiedad ofertada\n",
    "- `l3`: La ciudad/el municipio de la propiedad ofertada\n",
    "- `l4`: La zona de la propiedad ofertada\n",
    "- `l5`: La localidad de la propiedad ofertada\n",
    "- `l6`: El barrio de la propiedad ofertada\n",
    "- `rooms`: El número de cuartos de la propiedad\n",
    "- `bedrooms`: El número de habitaciones de la propiedad\n",
    "- `bathrooms`: El número de baños de la propiedad\n",
    "- `surface_total`: El área total construida en $m^2$ del a propiedad\n",
    "- `surface_covered`: El área total del predio en $m^2$ del a propiedad\n",
    "- `price`: El precio de la propiedad (recordar: mil millones son $10^9$)\n",
    "- `currency`: La moneda en la que está demarcado el precio\n",
    "- `property_type`: El tipo de propiedad (Apartamento, casa, lote, etc.)\n",
    "- `operation_type`: El tipo de operación (venta, arriendo, etc.)"
   ]
  },
  {
   "cell_type": "code",
   "execution_count": 168,
   "metadata": {},
   "outputs": [],
   "source": [
    "propiedades = pd.read_csv('./co_properties.csv')"
   ]
  },
  {
   "cell_type": "code",
   "execution_count": null,
   "metadata": {},
   "outputs": [],
   "source": [
    "propiedades.head()"
   ]
  },
  {
   "cell_type": "code",
   "execution_count": 170,
   "metadata": {},
   "outputs": [],
   "source": [
    "pd.set_option('display.max_columns', 26)"
   ]
  },
  {
   "cell_type": "code",
   "execution_count": 171,
   "metadata": {},
   "outputs": [],
   "source": [
    "propiedades_venta_cali = propiedades[(propiedades.l3=='Cali') &(propiedades.operation_type=='Venta')&(propiedades.currency=='COP')]"
   ]
  },
  {
   "cell_type": "markdown",
   "metadata": {},
   "source": [
    "#### Diagrama de dispersión y distribución (jointplot) de precio y superficie total"
   ]
  },
  {
   "cell_type": "code",
   "execution_count": null,
   "metadata": {},
   "outputs": [],
   "source": [
    "sns.jointplot(data=propiedades_venta_cali,x='surface_total',y='price',xlim=(0,400),ylim=(0,1e9),height=10,hue='property_type')"
   ]
  },
  {
   "cell_type": "markdown",
   "metadata": {},
   "source": [
    "#### Mapa de calor de número de baños por sector (heatmap)\n",
    "\n",
    "Quisieramos entender cómo fluctúa el precio en función de dos variables: el sector (`l4`) y el número de baños (`bathrooms`) de propiedades de vivienda."
   ]
  },
  {
   "cell_type": "code",
   "execution_count": null,
   "metadata": {},
   "outputs": [],
   "source": [
    "# Filtramos por Casa, Apartamento y nos aseguramos de eliminar los valores nulos\n",
    "propiedades_venta_cali.loc[propiedades_venta_cali.property_type.isin(['Casa','Apartamento']),['bathrooms','l4','price']].dropna()"
   ]
  },
  {
   "cell_type": "code",
   "execution_count": null,
   "metadata": {},
   "outputs": [],
   "source": [
    "# Calculamos el precio por medio por barrio y número de baños\n",
    "propiedades_venta_cali.loc[propiedades_venta_cali.property_type.isin(['Casa','Apartamento']),['bathrooms','l4','price']] \\\n",
    "    .dropna() \\\n",
    "        .groupby(['l4','bathrooms']).mean()"
   ]
  },
  {
   "cell_type": "code",
   "execution_count": null,
   "metadata": {},
   "outputs": [],
   "source": [
    "propiedades_venta_cali.loc[propiedades_venta_cali.property_type.isin(['Casa','Apartamento']),['bathrooms','l4','price']] \\\n",
    "    .dropna() \\\n",
    "        .groupby(['l4','bathrooms']).mean().reset_index()"
   ]
  },
  {
   "cell_type": "code",
   "execution_count": null,
   "metadata": {},
   "outputs": [],
   "source": [
    "# Construimos la tabla pivote\n",
    "bathrooms_sector = propiedades_venta_cali.loc[propiedades_venta_cali.property_type.isin(['Casa','Apartamento']),['bathrooms','l4','price']] \\\n",
    "    .dropna() \\\n",
    "        .groupby(['l4','bathrooms']).mean().reset_index() \\\n",
    "        .pivot(index='l4',columns='bathrooms',values='price')\n",
    "bathrooms_sector"
   ]
  },
  {
   "cell_type": "code",
   "execution_count": null,
   "metadata": {},
   "outputs": [],
   "source": [
    "sns.heatmap(bathrooms_sector,cmap=sns.color_palette('berlin'),annot=True)"
   ]
  },
  {
   "cell_type": "code",
   "execution_count": null,
   "metadata": {},
   "outputs": [],
   "source": [
    "plt.figure(figsize = (20,5))\n",
    "sns.heatmap(bathrooms_sector,cmap=sns.color_palette('berlin'),annot=True,fmt='.1e')\n",
    "plt.show ()"
   ]
  },
  {
   "cell_type": "code",
   "execution_count": null,
   "metadata": {},
   "outputs": [],
   "source": [
    "plt.figure(figsize = (15,5))\n",
    "sns.heatmap(bathrooms_sector[bathrooms_sector.columns[bathrooms_sector.columns<8]]/1000000,cmap=sns.color_palette('managua'),annot=True,fmt='.1f')\n",
    "plt.title('Precio (en millones de pesos) de propiedades residenciales en Cali por barrio y número de baños')\n",
    "plt.xlabel('Baños')\n",
    "plt.ylabel('Barrios')\n",
    "plt.show ()"
   ]
  },
  {
   "cell_type": "markdown",
   "metadata": {},
   "source": [
    "### Introducción a la librería `plotly`"
   ]
  },
  {
   "cell_type": "code",
   "execution_count": 180,
   "metadata": {},
   "outputs": [],
   "source": [
    "#!pip install plotly"
   ]
  },
  {
   "cell_type": "code",
   "execution_count": 181,
   "metadata": {},
   "outputs": [],
   "source": [
    "import plotly.express as px"
   ]
  },
  {
   "cell_type": "markdown",
   "metadata": {},
   "source": [
    "#### Gráficos de barra"
   ]
  },
  {
   "cell_type": "markdown",
   "metadata": {},
   "source": [
    "Ahora queremos entender como cambia el precio promedio de los arriendos de algún tipo de propiedad con el tiempo. Para eso, usaremos las columnas `created_on`, `l3`,`surface_total` y `property_type` de nuestro DataFrame."
   ]
  },
  {
   "cell_type": "code",
   "execution_count": null,
   "metadata": {},
   "outputs": [],
   "source": [
    "propiedades.head()"
   ]
  },
  {
   "cell_type": "code",
   "execution_count": 183,
   "metadata": {},
   "outputs": [],
   "source": [
    "propiedades['created_on'] = pd.to_datetime(propiedades['created_on'])"
   ]
  },
  {
   "cell_type": "code",
   "execution_count": null,
   "metadata": {},
   "outputs": [],
   "source": [
    "arriendos_med = propiedades.loc[(propiedades.l3=='Medellín')&\\\n",
    "                (propiedades.property_type=='Casa')&\\\n",
    "                (propiedades.currency=='COP')&\\\n",
    "                    (propiedades.operation_type=='Arriendo'),['created_on','surface_covered','price']].dropna(subset='surface_covered')\n",
    "arriendos_med"
   ]
  },
  {
   "cell_type": "code",
   "execution_count": 185,
   "metadata": {},
   "outputs": [],
   "source": [
    "arriendos_med['mes'] = arriendos_med['created_on'].apply(lambda x: f'{x.year}-{x.month:02}')\n",
    "arriendos_med = arriendos_med.groupby('mes').mean(numeric_only=True).reset_index()"
   ]
  },
  {
   "cell_type": "code",
   "execution_count": null,
   "metadata": {},
   "outputs": [],
   "source": [
    "fig = px.bar(arriendos_med,x='mes',y='price',hover_data=['surface_covered'],color='surface_covered'\\\n",
    "    ,title='Precios promedio de arriendos en casas en Medellín',labels={'price':'Precio mensual'})\n",
    "fig.show()\n"
   ]
  },
  {
   "cell_type": "markdown",
   "metadata": {},
   "source": [
    "#### Gráficos de burbuja"
   ]
  },
  {
   "cell_type": "code",
   "execution_count": null,
   "metadata": {},
   "outputs": [],
   "source": [
    "datos_burbuja = propiedades[(propiedades.l3=='Bogotá D.C')&(propiedades.price<1e10)&(propiedades.currency=='COP')].dropna(subset='bedrooms')\n",
    "datos_burbuja.head()"
   ]
  },
  {
   "cell_type": "code",
   "execution_count": null,
   "metadata": {},
   "outputs": [],
   "source": [
    "fig = px.scatter(datos_burbuja, x=\"surface_total\", y=\"price\",\n",
    "\t         size=\"bedrooms\", color=\"property_type\",hover_name='title',hover_data=['bedrooms','property_type'],\n",
    "             log_y=True,log_x=True, size_max=60,\n",
    "             title='Precio de propiedades en Bogotá en función del área superficial y el número de habitaciones.',\n",
    "             labels={'price':'Precio (millones de pesos)','surface_total':'Área superficial (metros cuadrados)'})\n",
    "fig.show()"
   ]
  },
  {
   "cell_type": "markdown",
   "metadata": {},
   "source": [
    "### Introducción a la librería `geopandas`"
   ]
  },
  {
   "cell_type": "code",
   "execution_count": 189,
   "metadata": {},
   "outputs": [],
   "source": [
    "#!pip install geopandas"
   ]
  },
  {
   "cell_type": "code",
   "execution_count": 190,
   "metadata": {},
   "outputs": [],
   "source": [
    "import geopandas as gpd"
   ]
  },
  {
   "cell_type": "markdown",
   "metadata": {},
   "source": [
    "#### Mapas de producción de café en Colombia**"
   ]
  },
  {
   "cell_type": "code",
   "execution_count": 191,
   "metadata": {},
   "outputs": [],
   "source": [
    "area_cafe = pd.read_excel('./area_cult_tecnificacion.xlsx')"
   ]
  },
  {
   "cell_type": "code",
   "execution_count": null,
   "metadata": {},
   "outputs": [],
   "source": [
    "area_cafe.head()"
   ]
  },
  {
   "cell_type": "code",
   "execution_count": 193,
   "metadata": {},
   "outputs": [],
   "source": [
    "area_cafe = pd.read_excel('./area_cult_tecnificacion.xlsx',skiprows=5,header=[0,1])"
   ]
  },
  {
   "cell_type": "code",
   "execution_count": null,
   "metadata": {},
   "outputs": [],
   "source": [
    "area_cafe.head()"
   ]
  },
  {
   "cell_type": "code",
   "execution_count": null,
   "metadata": {},
   "outputs": [],
   "source": [
    "area_cafe = area_cafe.drop(columns='Unnamed: 0_level_0')"
   ]
  },
  {
   "cell_type": "code",
   "execution_count": 196,
   "metadata": {},
   "outputs": [],
   "source": [
    "area_cafe = area_cafe.iloc[:23]"
   ]
  },
  {
   "cell_type": "code",
   "execution_count": null,
   "metadata": {},
   "outputs": [],
   "source": [
    "area_cafe = area_cafe.set_index('Departamento')\n",
    "area_cafe.head()"
   ]
  },
  {
   "cell_type": "code",
   "execution_count": null,
   "metadata": {},
   "outputs": [],
   "source": [
    "area_cafe.unstack().reset_index()"
   ]
  },
  {
   "cell_type": "code",
   "execution_count": 199,
   "metadata": {},
   "outputs": [],
   "source": [
    "area_cafe = area_cafe.unstack().reset_index().rename(columns={'level_0':'Tecnificación','level_1':'Año',0:'Área (kHa)'})"
   ]
  },
  {
   "cell_type": "code",
   "execution_count": null,
   "metadata": {},
   "outputs": [],
   "source": [
    "area_cafe"
   ]
  },
  {
   "cell_type": "code",
   "execution_count": 201,
   "metadata": {},
   "outputs": [],
   "source": [
    "area_cafe = area_cafe[area_cafe.Tecnificación!='Total']\n",
    "area_cafe.loc[:,'Tecnificación'] = area_cafe.Tecnificación.apply(lambda s: s.split(' /')[0])\n",
    "area_cafe.loc[:,'Departamento'] = area_cafe.Departamento.apply(lambda tupla: tupla[0].upper())\n",
    "area_cafe.loc[:,'Año'] = area_cafe.Año.apply(lambda a: int(str(a).replace('*','')))\n",
    "area_cafe.loc[:,'Área (kHa)'] = pd.to_numeric(area_cafe['Área (kHa)'])"
   ]
  },
  {
   "cell_type": "code",
   "execution_count": null,
   "metadata": {},
   "outputs": [],
   "source": [
    "area_cafe = area_cafe[(area_cafe.Año==2007) | (area_cafe.Año==2022)]\n",
    "area_cafe"
   ]
  },
  {
   "cell_type": "code",
   "execution_count": 203,
   "metadata": {},
   "outputs": [],
   "source": [
    "info_geografica = gpd.read_file('./colombia_deptos.json')"
   ]
  },
  {
   "cell_type": "code",
   "execution_count": null,
   "metadata": {},
   "outputs": [],
   "source": [
    "info_geografica.head()"
   ]
  },
  {
   "cell_type": "code",
   "execution_count": null,
   "metadata": {},
   "outputs": [],
   "source": [
    "info_geografica.plot()"
   ]
  },
  {
   "cell_type": "code",
   "execution_count": null,
   "metadata": {},
   "outputs": [],
   "source": [
    "area_cafe_2007_trad = info_geografica[['NOMBRE_DPT','geometry']].merge(area_cafe[(area_cafe.Año==2007) & (area_cafe.Tecnificación=='Tradicional')],left_on='NOMBRE_DPT',right_on='Departamento',how='left')\n",
    "print(area_cafe_2007_trad.shape)\n",
    "area_cafe_2007_trad.head()"
   ]
  },
  {
   "cell_type": "code",
   "execution_count": null,
   "metadata": {},
   "outputs": [],
   "source": [
    "area_cafe_2007_trad.loc[:,'Tecnificación'] = area_cafe_2007_trad['Tecnificación'].fillna('Tradicional')\n",
    "area_cafe_2007_trad.loc[:,'Año'] = area_cafe_2007_trad['Año'].fillna(2007)\n",
    "area_cafe_2007_trad.loc[:,'Departamento'] = area_cafe_2007_trad['Departamento'].fillna(area_cafe_2007_trad.loc[:,'NOMBRE_DPT'])\n",
    "area_cafe_2007_trad.loc[:,'Área (kHa)'] = area_cafe_2007_trad['Área (kHa)'].fillna(0)"
   ]
  },
  {
   "cell_type": "code",
   "execution_count": null,
   "metadata": {},
   "outputs": [],
   "source": [
    "fig = plt.figure()\n",
    "area_cafe_2007_trad.plot(column='Área (kHa)',cmap='Oranges')\n",
    "plt.title('Área (kHa) de cultivos de café de \\n tecnificado Tradicional en al año 2007')"
   ]
  },
  {
   "cell_type": "code",
   "execution_count": null,
   "metadata": {},
   "outputs": [],
   "source": [
    "fig, axs = plt.subplots(2,3,figsize=(15,10),sharex=True,sharey=True,subplot_kw={'aspect':'equal'})\n",
    "\n",
    "for año in area_cafe.Año.unique():\n",
    "    for tec in area_cafe.Tecnificación.unique():\n",
    "        ax = axs[list(area_cafe.Año.unique()).index(año),list(area_cafe.Tecnificación.unique()).index(tec)]\n",
    "        area_cafe_subset = info_geografica[['NOMBRE_DPT','geometry']]\\\n",
    "            .merge(area_cafe[(area_cafe.Año==año) & (area_cafe.Tecnificación==tec)],\\\n",
    "                left_on='NOMBRE_DPT',right_on='Departamento',how='left')\n",
    "        \n",
    "\n",
    "        area_cafe_subset.loc[:,'Tecnificación'] = area_cafe_subset['Tecnificación'].fillna(tec)\n",
    "        area_cafe_subset.loc[:,'Año'] = area_cafe_subset['Año'].fillna(año)\n",
    "        area_cafe_subset.loc[:,'Departamento'] = area_cafe_subset['Departamento'].fillna(area_cafe_subset.loc[:,'NOMBRE_DPT'])\n",
    "        area_cafe_subset.loc[:,'Área (kHa)'] = area_cafe_subset['Área (kHa)'].fillna(0)\n",
    "        area_cafe_subset = area_cafe_subset.infer_objects()\n",
    "\n",
    "        area_cafe_subset.plot(column='Área (kHa)',cmap='Oranges', ax=ax,edgecolor='#542201',linewidth=0.35)\n",
    "        ax.grid(False)\n",
    "        ax.set_facecolor('white')\n",
    "        ax.get_xaxis().set_visible(False)\n",
    "        ax.get_yaxis().set_visible(False)\n",
    "        ax.set_title(f'{tec}, {año}.')                \n",
    "\n",
    "patch_col = axs[0][0].collections[0]\n",
    "cb = fig.colorbar(patch_col, ax=axs, shrink=0.5)"
   ]
  },
  {
   "cell_type": "markdown",
   "metadata": {},
   "source": [
    "## Taller"
   ]
  },
  {
   "cell_type": "code",
   "execution_count": 210,
   "metadata": {},
   "outputs": [],
   "source": [
    "import pandas as pd\n",
    "import numpy as np\n",
    "from datetime import datetime\n",
    "import matplotlib.pyplot as plt\n",
    "import seaborn as sns"
   ]
  },
  {
   "cell_type": "markdown",
   "metadata": {},
   "source": [
    "El Departamento de Transporte de Estados Unidos rastrea el rendimiento de los vuelos domésticos operados por las principales transportadoras aéreas del país. A continuación, se presentan los datos de los vuelos a tiempo, retrasados, cancelados y desvíados para el año 2015.\n",
    "\n",
    "Primero, importemos los dataframes y hagamos una exploración."
   ]
  },
  {
   "cell_type": "code",
   "execution_count": 211,
   "metadata": {},
   "outputs": [],
   "source": [
    "aerolineas = pd.read_csv('./airlines.csv')"
   ]
  },
  {
   "cell_type": "code",
   "execution_count": null,
   "metadata": {},
   "outputs": [],
   "source": [
    "aerolineas.head()"
   ]
  },
  {
   "cell_type": "markdown",
   "metadata": {},
   "source": [
    "Este parece ser un diccionario de las aerolíneas y su código único IATA (Asociación Internacional de Transporte Aéreo)."
   ]
  },
  {
   "cell_type": "code",
   "execution_count": null,
   "metadata": {},
   "outputs": [],
   "source": [
    "aeropuertos = pd.read_csv('./airports.csv')\n",
    "print(aeropuertos.shape)\n",
    "aeropuertos.head()"
   ]
  },
  {
   "cell_type": "markdown",
   "metadata": {},
   "source": [
    "En este caso tenemos la información de 322 aeropuertos como su código IATA, su nombre completo, la ciudad y el estado al que pertenecen así como sus coordenadas geográficas."
   ]
  },
  {
   "cell_type": "code",
   "execution_count": null,
   "metadata": {},
   "outputs": [],
   "source": [
    "vuelos = pd.read_csv('./flights.csv')\n",
    "print(vuelos.shape)\n",
    "vuelos.head()"
   ]
  },
  {
   "cell_type": "markdown",
   "metadata": {},
   "source": [
    "Observe que tenemos 5,819,079 registros y aún así el tiempo de lectura fue corto. No obstante, como tenemos 31 columnas no es tan fácil visualizar toda la tabla. Para esto podemos cambiar el máximo número de columnas visualizadas utilizando:"
   ]
  },
  {
   "cell_type": "code",
   "execution_count": 215,
   "metadata": {},
   "outputs": [],
   "source": [
    "pd.set_option('display.max_columns', 32)"
   ]
  },
  {
   "cell_type": "code",
   "execution_count": null,
   "metadata": {},
   "outputs": [],
   "source": [
    "vuelos.head()"
   ]
  },
  {
   "cell_type": "markdown",
   "metadata": {},
   "source": [
    "Veamos algunas descripciones de las columnas de los datos:\n",
    "\n",
    "- **YEAR, MONTH, DAY**: Información sobre la fecha del vuelo.\n",
    "- **AIRLINE**: Código IATA de la aerolínea.\n",
    "- **FLIGHT_NUMBER**: Número del vuelo\n",
    "- **TAIL_NUMBER**: Modelo del avión\n",
    "- **ORIGIN_AIRPORT, DESTINATION_AIRPORT**: Código IATA del aeropuerto de origen y de destino respectivamente\n",
    "- **SCHEDULED_DEPARTURE**: Hora del vuelo programada para la salida en formato 24H, es decir HHMM.\n",
    "- **DEPARTURE_TIME**: Hora del vuelo real de la salida en formato 24H, es decir HHMM.\n",
    "- **WHEELS OFF**: La hora a la que las llantas despegan. En format 24H (HHMM).\n",
    "- **SCHEDULED_TIME**: El tiempo programado para la duración del vuelo.\n",
    "- **AIR_TIME**: El tiempo que la aeronave estuvo en el aire en minutos.\n",
    "- **DISTANCE**: La distancia recorrida en millas.\n",
    "- **WHEELS_ON**: La hora a la que las llantas aterrizan. En format 24H (HHMM).\n",
    "- **SCHEDULED_ARRIVAL**: Hora del vuelo programada para la llegada en formato 24H, es decir HHMM.\n",
    "- **ARRIVAL_TIME**: Hora del vuelo real de la llegada en formato 24H, es decir HHMM.\n",
    "- **DIVERTED, CANCELLED**: Si el vuelo fue desvíado o cancelado.\n",
    "- **CANCELLATION_REASON**: Si el vuelo fue cancelado, indica la razón de su cancelación. Puede ser\n",
    "    - _A_: Debido a problemas con la aerolínea.\n",
    "    - _B_: Debido al clima.\n",
    "    - _C_: Debido a restricciones del espacio aéreo (NAS)\n",
    "    - _D_: Por razones de seguridad.\n",
    "- **AIR_SYSTEM_DELAY, SECURITY_DELAY, AIRLINE_DELAY, LATE_AIRCRAFT_DELAY, WEATHER_DELAY**: Demoras en minutos debido al espacio aéreo, a la seguridad del viaje, a la aerolínea, a una aeronave tardía, al clima respectivamente.\n"
   ]
  },
  {
   "cell_type": "markdown",
   "metadata": {},
   "source": [
    "1. ¿Cuál es el día de la semana dónde hay más vuelos retrasados? ¿Y más vuelos cancelados?"
   ]
  },
  {
   "cell_type": "code",
   "execution_count": 218,
   "metadata": {},
   "outputs": [],
   "source": [
    "dict_day = {0: 'Lunes', 1:'Martes', 2:'Miércoles',3:'Jueves',4:'Viernes',5:'Sábado',6:'Domingo'}"
   ]
  },
  {
   "cell_type": "code",
   "execution_count": 219,
   "metadata": {},
   "outputs": [],
   "source": [
    "vuelos['DIA_DE_SEMANA'] = pd.to_datetime(vuelos[['YEAR','MONTH','DAY']]).apply(lambda d: dict_day[d.day_of_week])"
   ]
  },
  {
   "cell_type": "markdown",
   "metadata": {},
   "source": [
    "2. ¿Cuál es la aerolínea con más retrasos superiores a 45 min? ¿Y cancelaciones? Construya un gráfico de barras con el total de retrasos superiores a 45 min y cancelaciones por aerolínea?"
   ]
  },
  {
   "cell_type": "markdown",
   "metadata": {},
   "source": [
    "3. Construya las distribuciones de la velocidad promedio (km/h) y la distancia (km) recorrida en los vuelos? ¿Cuál es la mediana de la velocidad promedio?"
   ]
  },
  {
   "cell_type": "code",
   "execution_count": 220,
   "metadata": {},
   "outputs": [],
   "source": [
    "vuelos['DISTANCE_KM'] = vuelos['DISTANCE']*1.60934"
   ]
  },
  {
   "cell_type": "code",
   "execution_count": 221,
   "metadata": {},
   "outputs": [],
   "source": [
    "vuelos['VELOCIDAD_PROMEDIO'] = vuelos['DISTANCE_KM']/(vuelos['AIR_TIME']/60)"
   ]
  },
  {
   "cell_type": "markdown",
   "metadata": {},
   "source": [
    "4. Construya el mapa de calor de correlaciones para las variables de *VELOCIDAD_PROMEDIO, DISTANCE, AIR_TIME, TAXI_OFF, DEPARTURE_DELAY, ARRIVAL_DELAY*. ¿Cuáles tienen una correlación negativa?"
   ]
  },
  {
   "cell_type": "code",
   "execution_count": null,
   "metadata": {},
   "outputs": [],
   "source": [
    "corr = vuelos[['VELOCIDAD_PROMEDIO','DISTANCE','AIR_TIME','TAXI_OUT','DEPARTURE_DELAY','ARRIVAL_DELAY']].corr()\n",
    "corr.head()"
   ]
  },
  {
   "cell_type": "markdown",
   "metadata": {},
   "source": [
    "5. Construya un gráfico de barras de la suma de la distancia total que recorrió cada aerolínea."
   ]
  },
  {
   "cell_type": "markdown",
   "metadata": {},
   "source": [
    "6. Los retrasos son comunmente clasificados en: _ligero retraso_ (hasta 15 min), _retraso medio_ (de 15 a 45 min) y _retraso severo_ (mayor a 45 min). Utilizando estas categorías construya un gráfico de barras del número de estos tipos de retraso de llegada para los 5 aeropuertos de destino con mayor número de vuelos."
   ]
  },
  {
   "cell_type": "code",
   "execution_count": null,
   "metadata": {},
   "outputs": [],
   "source": [
    "aeropuertos_principales = vuelos['DESTINATION_AIRPORT'].value_counts().reset_index().iloc[:5].DESTINATION_AIRPORT.values\n",
    "aeropuertos_principales"
   ]
  },
  {
   "cell_type": "markdown",
   "metadata": {},
   "source": [
    "7. ¿Qué ciudad tiene más vuelos cancelados debido al clima como una proporción de los vuelos totales por ciudad?"
   ]
  },
  {
   "cell_type": "markdown",
   "metadata": {},
   "source": [
    "8. Elabore un gráfico de línea de las 5 aerolíneas con más retrasos para ver su total de retrasos por mes a lo largo del año."
   ]
  },
  {
   "cell_type": "code",
   "execution_count": null,
   "metadata": {},
   "outputs": [],
   "source": [
    "aerolineas_mas_retrasadas = vuelos[~(vuelos['TIPO_RETRASO'].isna())]\\\n",
    "    .groupby('AIRLINE').count()['DAY'].sort_values(ascending=False).iloc[:5].index"
   ]
  }
 ],
 "metadata": {
  "kernelspec": {
   "display_name": ".venv",
   "language": "python",
   "name": "python3"
  },
  "language_info": {
   "codemirror_mode": {
    "name": "ipython",
    "version": 3
   },
   "file_extension": ".py",
   "mimetype": "text/x-python",
   "name": "python",
   "nbconvert_exporter": "python",
   "pygments_lexer": "ipython3",
   "version": "3.13.1"
  }
 },
 "nbformat": 4,
 "nbformat_minor": 2
}
