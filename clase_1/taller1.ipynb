{
 "cells": [
  {
   "cell_type": "markdown",
   "metadata": {},
   "source": [
    "# **Introducción al análisis de datos en Python** \n",
    "### Profesor: Juan Pablo Salas"
   ]
  },
  {
   "cell_type": "markdown",
   "metadata": {},
   "source": [
    "# Clase 1: Introducción Python\n",
    "> **Objetivo**: El objetivo de este taller es que se familiaricen con los elementos básicos de Python.\n",
    "\n",
    "¿Qué es y Por qué Python? \n",
    "\n",
    "Python es un [lenguaje de programación](https://es.wikipedia.org/wiki/Lenguaje_de_programaci%C3%B3n)\n",
    "- Es el tercer lenguaje de programación más popular del mundo.\n",
    "- Es el primero cuando se trata de temas de análisis de datos.\n",
    "- Es un lenguaje de propósito general, es decir que se utiliza para muchas cosas como Machine Learning, Internet of things, creación de aplicaciones web, de escritorio y de móviles.\n",
    "- Open-source\n",
    "- Comunidad grande y colaborativa\n",
    "\n",
    "> **Recuerde**: Estamos usando Python 3.9. Usamos como *Managers* PIP y Conda. Todo esto lo logramos de manera sencilla instalando [Miniconda](https://docs.conda.io/en/latest/miniconda.html)."
   ]
  },
  {
   "cell_type": "markdown",
   "metadata": {},
   "source": [
    "1. **Sintaxis en Python:** Indentación y estructura básica.\n",
    "2. **Tipos de datos:** entero, float, lógico, character. Missings: NaN, NA. \n",
    "5. **Estructuras de datos:** Listas, cadenas, tuplas y diccionarios. \n",
    "6. **Numpy y Pandas.** Operaciones básicas e indexación. "
   ]
  },
  {
   "cell_type": "markdown",
   "metadata": {},
   "source": [
    "### Jupyter Notebook\n",
    "Los archivos de extensión *.ipynb* presentan una interfaz muy cómoda para el aprendizaje, y la colaboración. Contiene:\n",
    "- Celdas de código\n",
    "- Celdas de [markdown](https://github.com/adam-p/markdown-here/wiki/Markdown-Cheatsheet) (como esta)\n",
    "- Celdas de texto crudo\n",
    "- Kernel\n",
    "\n",
    "<div class=\"alert alert-info\">\n",
    "La documentación oficial de Jupyter está  \n",
    "<a href=\"https://jupyter-notebook.readthedocs.io/en/stable/\" class=\"alert-link\">aquí</a>\n",
    "y puede encontrar algunos Notebooks didácticos \n",
    "<a href=\"https://github.com/jupyter/notebook/tree/master/docs/source/examples/Notebook\" class=\"alert-link\">aquí</a>\n",
    "\n",
    "Entre las ventajas de utilizar Jupyter Notebooks es que se pueden incluir formulas matemáticas utilizando comandos de Latex al igual que imágenes o hipervínculos.\n",
    "$$\\text{Teorema de Pitágoras: }c = \\sqrt{a^2 + b^2}$$\n",
    "\n",
    "<center>\n",
    "<img src=\"https://www.neurochispas.com/wp-content/uploads/2021/05/como-aplicar-el-teorema-de-pitagoras.png\" alt=\"Teorema de Pitágoras\" style=\"height:150px;\">\n",
    "</center>\n"
   ]
  },
  {
   "cell_type": "markdown",
   "metadata": {},
   "source": [
    "### Kernel\n",
    "El \"kernel\" es lo que permite que se corran cosas en python, Jupyter es una interfaz para que los bloques de código corran dentro de una consola de python, el kernel es el que conecta esta interfaz con la parte del computador que corre el código.\n",
    "\n",
    "El kernel también guarda **espacio de trabajo**, es decir todas las variables que se han declarado. \n",
    "\n",
    "Se puede reiniciar el kernel de manera rápida en la pestaña de \"kernel\" en el tope."
   ]
  },
  {
   "cell_type": "markdown",
   "metadata": {},
   "source": [
    "## Variables en Python\n",
    "En Python una variables es creada cuando se le asigna algun valor y se nombra."
   ]
  },
  {
   "cell_type": "code",
   "execution_count": 1,
   "metadata": {},
   "outputs": [],
   "source": [
    "x = 5 \n",
    "y = 'Hola Mundo!'"
   ]
  },
  {
   "cell_type": "markdown",
   "metadata": {},
   "source": [
    "Para saber cuál es el valor de una variable siempre utilizaremos la función nativa de Python, `print()`. Por ejemplo:"
   ]
  },
  {
   "cell_type": "code",
   "execution_count": null,
   "metadata": {},
   "outputs": [],
   "source": [
    "s = \"Esta es mi variable\"\n",
    "print(s)"
   ]
  },
  {
   "cell_type": "code",
   "execution_count": null,
   "metadata": {},
   "outputs": [],
   "source": [
    "print(x)"
   ]
  },
  {
   "cell_type": "code",
   "execution_count": null,
   "metadata": {},
   "outputs": [],
   "source": [
    "print(y)"
   ]
  },
  {
   "cell_type": "markdown",
   "metadata": {},
   "source": [
    "### Tipos de variables básicas\n",
    "Existen 4 tipos de variable básicas\n",
    "\n",
    "1. **Integers**. O sea los números enteros: `1, 7, 10000, -70`\n",
    "2. **Float**. Número de punto flotante, es decir que es un número que tiene algún decimal. `3.0, 3.1416, -4.3, 1.0000, 0.00`\n",
    "3. **Strings**. Variables que se codifican como texto. Siempre van entre comillas. `'3', \"a\", \"hola\", \"adasd\", \"20BC\"`\n",
    "4. **Boolean**. Solo pueden tomar dos valores: Verdadero o Falso, que en Python serían ```True``` o `False`"
   ]
  },
  {
   "cell_type": "code",
   "execution_count": 5,
   "metadata": {},
   "outputs": [],
   "source": [
    "# Integer\n",
    "a = 1"
   ]
  },
  {
   "cell_type": "code",
   "execution_count": 6,
   "metadata": {},
   "outputs": [],
   "source": [
    "# Float\n",
    "b = -1.2"
   ]
  },
  {
   "cell_type": "code",
   "execution_count": 7,
   "metadata": {},
   "outputs": [],
   "source": [
    "# String\n",
    "c = \"1\""
   ]
  },
  {
   "cell_type": "code",
   "execution_count": 8,
   "metadata": {},
   "outputs": [],
   "source": [
    "# Bool\n",
    "d = True"
   ]
  },
  {
   "cell_type": "code",
   "execution_count": null,
   "metadata": {},
   "outputs": [],
   "source": [
    "# Con la función type se puede chequear la clase o tipo de cada objeto\n",
    "type(0.0)"
   ]
  },
  {
   "cell_type": "code",
   "execution_count": null,
   "metadata": {},
   "outputs": [],
   "source": [
    "type(a)"
   ]
  },
  {
   "cell_type": "code",
   "execution_count": null,
   "metadata": {},
   "outputs": [],
   "source": [
    "# También podemos tener números complejos, pero no nos preocuparemos por eso en esta clase\n",
    "type(1j)"
   ]
  },
  {
   "cell_type": "markdown",
   "metadata": {},
   "source": [
    "### *Casting* de variables\n",
    "Hay casos en los que queremos especificar el tipo de nuestra variable. Esto se puede hacer con el casting de variables:\n",
    ">* `int()` - Construye un entero utilizando el argumento, puede construir un entero de un numero real haciendo utilizando la funcion *piso*.\n",
    ">* `float()` - Construye un decimal utilizando el argumento.\n",
    ">* `str()` - Construye una cadena de caracteres utilizando el argumento."
   ]
  },
  {
   "cell_type": "code",
   "execution_count": null,
   "metadata": {},
   "outputs": [],
   "source": [
    "x = int(2.8)\n",
    "x"
   ]
  },
  {
   "cell_type": "code",
   "execution_count": null,
   "metadata": {},
   "outputs": [],
   "source": [
    "y = float(2.8)\n",
    "y"
   ]
  },
  {
   "cell_type": "code",
   "execution_count": null,
   "metadata": {},
   "outputs": [],
   "source": [
    "z = str(2.8)\n",
    "z"
   ]
  },
  {
   "cell_type": "code",
   "execution_count": null,
   "metadata": {},
   "outputs": [],
   "source": [
    "int('2')"
   ]
  },
  {
   "cell_type": "code",
   "execution_count": null,
   "metadata": {},
   "outputs": [],
   "source": [
    "float(\"2.764\")"
   ]
  },
  {
   "cell_type": "code",
   "execution_count": null,
   "metadata": {},
   "outputs": [],
   "source": [
    "int(\"a\")"
   ]
  },
  {
   "cell_type": "markdown",
   "metadata": {},
   "source": [
    "### Operacion de variables numéricas\n",
    "El uso más básico de Python es convertirlo en una calculadora. Los símbolos para calcular las operaciones básicas son los siguientes:\n",
    "\n",
    "| Operación | Resultado       |\n",
    "| --------- | --------------- |\n",
    "|    +      | Suma            |\n",
    "|    -      | Resta           |\n",
    "|    *      | Multiplicación  |\n",
    "|    /      | División        |\n",
    "|    %      | Modulo          |\n",
    "|    //     | División entera |\n",
    "|    \\*\\*   | Potencia        |\n"
   ]
  },
  {
   "cell_type": "code",
   "execution_count": 22,
   "metadata": {},
   "outputs": [],
   "source": [
    "# Otra forma de asignar variables\n",
    "a, b, c = 5, 2, 87\n",
    "# Esa línea es homologa a:\n",
    "a = 5\n",
    "b = 2\n",
    "c = 87"
   ]
  },
  {
   "cell_type": "code",
   "execution_count": null,
   "metadata": {},
   "outputs": [],
   "source": [
    "a / b"
   ]
  },
  {
   "cell_type": "code",
   "execution_count": null,
   "metadata": {},
   "outputs": [],
   "source": [
    "a // b"
   ]
  },
  {
   "cell_type": "code",
   "execution_count": null,
   "metadata": {},
   "outputs": [],
   "source": [
    "a * b"
   ]
  },
  {
   "cell_type": "code",
   "execution_count": null,
   "metadata": {},
   "outputs": [],
   "source": [
    "c ** 3"
   ]
  },
  {
   "cell_type": "code",
   "execution_count": null,
   "metadata": {},
   "outputs": [],
   "source": [
    "c / 5"
   ]
  },
  {
   "cell_type": "code",
   "execution_count": null,
   "metadata": {},
   "outputs": [],
   "source": [
    "c % b #¿Cuál es el residuo de dividir 87 entre 2?"
   ]
  },
  {
   "cell_type": "code",
   "execution_count": null,
   "metadata": {},
   "outputs": [],
   "source": [
    "a"
   ]
  },
  {
   "cell_type": "code",
   "execution_count": null,
   "metadata": {},
   "outputs": [],
   "source": [
    "# Podemos modificar nuestras variables. Por ejemplo, sumemosle 2 a la variable a (que es 5)\n",
    "a = a + 2 \n",
    "a"
   ]
  },
  {
   "cell_type": "markdown",
   "metadata": {},
   "source": [
    "### Operadores de asignación\n",
    "Existen unos operadores que me permiten realizar operaciones y sobreescribir mi variable en una sola línea."
   ]
  },
  {
   "cell_type": "code",
   "execution_count": null,
   "metadata": {},
   "outputs": [],
   "source": [
    "x = 5\n",
    "print('Valor original:', x)"
   ]
  },
  {
   "cell_type": "code",
   "execution_count": null,
   "metadata": {},
   "outputs": [],
   "source": [
    "x = 5\n",
    "x = x + 2\n",
    "print('Le sumo 2 a x:', x)"
   ]
  },
  {
   "cell_type": "code",
   "execution_count": null,
   "metadata": {},
   "outputs": [],
   "source": [
    "x = 5\n",
    "x += 2\n",
    "print('Le sumo 2 a x:', x)"
   ]
  },
  {
   "cell_type": "code",
   "execution_count": null,
   "metadata": {},
   "outputs": [],
   "source": [
    "x -= 2\n",
    "print('Le resto 2:', x)"
   ]
  },
  {
   "cell_type": "code",
   "execution_count": null,
   "metadata": {},
   "outputs": [],
   "source": [
    "x *= 2\n",
    "print('Lo multiplico por 2:', x)"
   ]
  },
  {
   "cell_type": "code",
   "execution_count": null,
   "metadata": {},
   "outputs": [],
   "source": [
    "x /= 5\n",
    "print('Lo divido por 5:', x)"
   ]
  },
  {
   "cell_type": "code",
   "execution_count": null,
   "metadata": {},
   "outputs": [],
   "source": [
    "x **= 2\n",
    "print('Lo elevo a la 2:', x)"
   ]
  },
  {
   "cell_type": "markdown",
   "metadata": {},
   "source": [
    "### Operaciones Booleanos (comparar valores)\n",
    "Adicionalmente podemos comparar objetos para saber si son iguales, diferentes, mayores o menores.\n",
    "\n",
    "| Operación | Resultado       |\n",
    "| --------- | --------------- |\n",
    "|    ==      | Igual            |\n",
    "|    !=     | No igual           |\n",
    "|    >      | Mayor que  |\n",
    "|    <      | Menor que        |\n",
    "|    >=      | Mayor o igual que          |\n",
    "|    <=     | Menor o igual que |\n"
   ]
  },
  {
   "cell_type": "code",
   "execution_count": null,
   "metadata": {},
   "outputs": [],
   "source": [
    "print('a:',a,', b:',b)"
   ]
  },
  {
   "cell_type": "code",
   "execution_count": null,
   "metadata": {},
   "outputs": [],
   "source": [
    "print(a > b)"
   ]
  },
  {
   "cell_type": "code",
   "execution_count": null,
   "metadata": {},
   "outputs": [],
   "source": [
    "print(a == 6)"
   ]
  },
  {
   "cell_type": "code",
   "execution_count": null,
   "metadata": {},
   "outputs": [],
   "source": [
    "print(a != 6)"
   ]
  },
  {
   "cell_type": "markdown",
   "metadata": {},
   "source": [
    "Estas operaciones también las podemos realizar con strings"
   ]
  },
  {
   "cell_type": "code",
   "execution_count": null,
   "metadata": {},
   "outputs": [],
   "source": [
    "mi_nombre = 'Juan Pablo'\n",
    "print(mi_nombre == 'Jorge')"
   ]
  },
  {
   "cell_type": "code",
   "execution_count": null,
   "metadata": {},
   "outputs": [],
   "source": [
    "\"Juan\" != \"Sebastian\""
   ]
  },
  {
   "cell_type": "code",
   "execution_count": null,
   "metadata": {},
   "outputs": [],
   "source": [
    "# Para saber si una palabra es más grande que otra, se utiliza el orden alfabético. Las primeras letras del abecedario\n",
    "# son más pequeñas. En este caso Sebastian es más grande que Juan porque S está después de J en el abecedario\n",
    "\"Juan\" > \"Sebastian\""
   ]
  },
  {
   "cell_type": "code",
   "execution_count": null,
   "metadata": {},
   "outputs": [],
   "source": [
    "# En este caso Camilo es más grande porque la C está después de la A\n",
    "\"Andres\" > \"Camilo\""
   ]
  },
  {
   "cell_type": "code",
   "execution_count": null,
   "metadata": {},
   "outputs": [],
   "source": [
    "# Como ambas palabras comienzan por la A, se entra a evaluar el segundo carácter\n",
    "\"Andres\" > \"Alejandra\""
   ]
  },
  {
   "cell_type": "code",
   "execution_count": null,
   "metadata": {},
   "outputs": [],
   "source": [
    "# Las letras minúsculas preceden a las mayúsculas\n",
    "\"Andres\" > \"amarillo\""
   ]
  },
  {
   "cell_type": "code",
   "execution_count": null,
   "metadata": {},
   "outputs": [],
   "source": [
    "\"a\" > \"A\""
   ]
  },
  {
   "cell_type": "markdown",
   "metadata": {},
   "source": [
    "Se pueden usar los operadores de `y` e `o` para construir comparaciones más complejas. Recuerde las tablas de verdad\n",
    "\n",
    "| a | b | A and B | A or B |\n",
    "|:-:|:-:|:-------:|:------:|\n",
    "| T | T |    T    |    T   |\n",
    "| T | F |    F    |    T   |\n",
    "| F | T |    F    |    T   |\n",
    "| F | F |    F    |    F   |"
   ]
  },
  {
   "cell_type": "code",
   "execution_count": null,
   "metadata": {},
   "outputs": [],
   "source": [
    "True and True"
   ]
  },
  {
   "cell_type": "code",
   "execution_count": null,
   "metadata": {},
   "outputs": [],
   "source": [
    "True and False"
   ]
  },
  {
   "cell_type": "code",
   "execution_count": null,
   "metadata": {},
   "outputs": [],
   "source": [
    "print(a > 5 and a <= 10)"
   ]
  },
  {
   "cell_type": "code",
   "execution_count": null,
   "metadata": {},
   "outputs": [],
   "source": [
    "print(a > 5 or a % 3 == 0)"
   ]
  },
  {
   "cell_type": "markdown",
   "metadata": {},
   "source": [
    "### Operaciones con strings\n",
    "\n",
    "Con las cadenas de caracteres, o **strings** también podemos realizar algunas operaciones básicas tales como:\n",
    "\n",
    "| Operación       | Símbolo |\n",
    "| --------------- | --------- |\n",
    "| Concatenación            |    +      |\n",
    "| Repetición           |    * |\n",
    "| Longitud  |    `len`      |\n",
    "| Pertenencia        |    a `in` b     |\n",
    "| Capitalización          |    `.lower()`, `.upper()`, `.title()`      |\n",
    "| Slicing |   `a[inc:exc]`     |\n",
    "| Unión y separación|   `.join, .split`     |\n",
    "| Reemplazar|   `.replace`     |\n",
    "| Eliminación de espacios|   `.strip`     |"
   ]
  },
  {
   "cell_type": "code",
   "execution_count": null,
   "metadata": {},
   "outputs": [],
   "source": [
    "nombre = 'Juan Pablo'\n",
    "apellido = 'Salas'\n",
    "nombre+' '+apellido"
   ]
  },
  {
   "cell_type": "code",
   "execution_count": null,
   "metadata": {},
   "outputs": [],
   "source": [
    "nombre*3"
   ]
  },
  {
   "cell_type": "code",
   "execution_count": null,
   "metadata": {},
   "outputs": [],
   "source": [
    "len(nombre)"
   ]
  },
  {
   "cell_type": "code",
   "execution_count": null,
   "metadata": {},
   "outputs": [],
   "source": [
    "'a' in nombre"
   ]
  },
  {
   "cell_type": "code",
   "execution_count": null,
   "metadata": {},
   "outputs": [],
   "source": [
    "# Verificar si una secuencia de caracteres está dentro de otra\n",
    "'Juan' in nombre"
   ]
  },
  {
   "cell_type": "code",
   "execution_count": null,
   "metadata": {},
   "outputs": [],
   "source": [
    "'juan' in nombre"
   ]
  },
  {
   "cell_type": "code",
   "execution_count": null,
   "metadata": {},
   "outputs": [],
   "source": [
    "# Transformar el string a minúsculas\n",
    "nombre.lower()"
   ]
  },
  {
   "cell_type": "code",
   "execution_count": null,
   "metadata": {},
   "outputs": [],
   "source": [
    "# Extraiga el segundo y tercer caracter de \"apellido\"\n",
    "apellido[1:3]"
   ]
  },
  {
   "cell_type": "code",
   "execution_count": null,
   "metadata": {},
   "outputs": [],
   "source": [
    "apellido[1:4] #Retorna los caracteres en posiciones 1,2,3"
   ]
  },
  {
   "cell_type": "code",
   "execution_count": null,
   "metadata": {},
   "outputs": [],
   "source": [
    "apellido[0:3]"
   ]
  },
  {
   "cell_type": "code",
   "execution_count": null,
   "metadata": {},
   "outputs": [],
   "source": [
    "# Unión de caracteres con otro string de por medio\n",
    "'*-'.join('3312059664')"
   ]
  },
  {
   "cell_type": "code",
   "execution_count": null,
   "metadata": {},
   "outputs": [],
   "source": [
    "# Separación de strings en elementos de una lista por espacio (por defecto)\n",
    "'Al fin y al cabo, no son más que palabras.'.split(' ')"
   ]
  },
  {
   "cell_type": "code",
   "execution_count": null,
   "metadata": {},
   "outputs": [],
   "source": [
    "'Al fin y al cabo, no son más que palabras.'.split(',')"
   ]
  },
  {
   "cell_type": "code",
   "execution_count": null,
   "metadata": {},
   "outputs": [],
   "source": [
    "# Reemplazar una cadena de caracteres\n",
    "carros = 'El precio de los automóviles está aumentando considerablemente. Hoy en día, los automóviles más demandados son los electricos.'\n",
    "carros.replace('automóviles','carros')"
   ]
  },
  {
   "cell_type": "code",
   "execution_count": 24,
   "metadata": {},
   "outputs": [],
   "source": [
    "a = ' A veces nuestros archivos tienen espacios de texto indeseados         '"
   ]
  },
  {
   "cell_type": "code",
   "execution_count": null,
   "metadata": {},
   "outputs": [],
   "source": [
    "a.strip()"
   ]
  },
  {
   "cell_type": "markdown",
   "metadata": {},
   "source": [
    "#### Strings con formato (f-string)\n",
    "\n",
    "Es común que cuando imprimimos a la consola utilicemos una combinación de variables ya definidas y strings. Esto se puede simplificar con los strings con formato. Consideremos el siguiente ejemplo:"
   ]
  },
  {
   "cell_type": "code",
   "execution_count": 78,
   "metadata": {},
   "outputs": [],
   "source": [
    "# Datos de una persona\n",
    "edad = 43\n",
    "profesion = 'Administradora'\n",
    "nombre = 'María'\n",
    "apellido = 'Gutierrez'"
   ]
  },
  {
   "cell_type": "code",
   "execution_count": null,
   "metadata": {},
   "outputs": [],
   "source": [
    "print('Hola, mi nombre es '+nombre+' '+apellido+'. Tengo '+str(edad)+' años y soy '+profesion+'.')"
   ]
  },
  {
   "cell_type": "code",
   "execution_count": null,
   "metadata": {},
   "outputs": [],
   "source": [
    "print(f'Hola, mi nombre es {nombre} {apellido}. Tengo {edad} años y soy {profesion}.')"
   ]
  },
  {
   "cell_type": "markdown",
   "metadata": {},
   "source": [
    "#### Entrada de datos por teclado\n",
    "\n",
    "En Python, la función `input()` permite al usuario introducir datos desde el teclado durante la ejecución de un programa. Se muestra una caja de texto cuya entrada luego se devuelve como cadena de texto o se guarda en una variable."
   ]
  },
  {
   "cell_type": "code",
   "execution_count": null,
   "metadata": {},
   "outputs": [],
   "source": [
    "input(\"¿Cuál es su profesión?\")"
   ]
  },
  {
   "cell_type": "code",
   "execution_count": 83,
   "metadata": {},
   "outputs": [],
   "source": [
    "edad = input(\"¿Cuántos años tiene?\")"
   ]
  },
  {
   "cell_type": "code",
   "execution_count": null,
   "metadata": {},
   "outputs": [],
   "source": [
    "print(f'Esta persona tiene {edad} años.')"
   ]
  },
  {
   "cell_type": "code",
   "execution_count": null,
   "metadata": {},
   "outputs": [],
   "source": [
    "type(edad)"
   ]
  },
  {
   "cell_type": "markdown",
   "metadata": {},
   "source": [
    "### Ejercicios\n",
    "\n",
    "1. Una caja de tamaño normal puede guardar hasta 6 huevos. Escriba un bloque de código que calcule cuántas cajas requiere un granjero para almacenar 28 huevos. Determine tambien cuántos huevos serán guardados en la última caja incompleta y cuántos huevos adicionales harían falta para llenarla. ¿Qué ocurre si el número total de huevos `n_huevos` es 45 y el número de huevos por caja `n_huevos_caja` es 8?"
   ]
  },
  {
   "cell_type": "code",
   "execution_count": null,
   "metadata": {},
   "outputs": [],
   "source": [
    "# ----- Desarrolle su código a continuación -----\n",
    "n_huevos = # \n",
    "n_huevos_caja = # \n",
    "respuesta = ''\n",
    "print(respuesta)"
   ]
  },
  {
   "cell_type": "markdown",
   "metadata": {},
   "source": [
    "2. Según la American Heart Association (AHA), la fórmula para calcular su frecuencia cardíaca máxima en pulsaciones por minuto es 220 menos su edad en años. Su frecuencia cardíaca objetivo debería estar entre el 50-85% de su frecuencia cárdiaca máxima. Escriba un código que recibe la edad del usuario y calcula la frecuencia cardíaca máxima y el rango de su frecuencia óptima. "
   ]
  },
  {
   "cell_type": "code",
   "execution_count": null,
   "metadata": {},
   "outputs": [],
   "source": [
    "# ----- Desarrolle su código a continuación -----"
   ]
  },
  {
   "cell_type": "markdown",
   "metadata": {},
   "source": [
    "3. Escriba un código que reciba como entrada del usuario las calificaciones de tres materias del usuario. Después de esto, el código debería mostrar el promedio de las tres materias así como el nombre de la materia con calificación más alta y más baja."
   ]
  },
  {
   "cell_type": "code",
   "execution_count": null,
   "metadata": {},
   "outputs": [],
   "source": [
    "# ----- Desarrolle su código a continuación -----"
   ]
  }
 ],
 "metadata": {
  "kernelspec": {
   "display_name": ".venv",
   "language": "python",
   "name": "python3"
  },
  "language_info": {
   "codemirror_mode": {
    "name": "ipython",
    "version": 3
   },
   "file_extension": ".py",
   "mimetype": "text/x-python",
   "name": "python",
   "nbconvert_exporter": "python",
   "pygments_lexer": "ipython3",
   "version": "3.13.1"
  }
 },
 "nbformat": 4,
 "nbformat_minor": 4
}
