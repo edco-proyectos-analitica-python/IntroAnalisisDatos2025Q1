{
 "cells": [
  {
   "cell_type": "markdown",
   "metadata": {},
   "source": [
    "### Ejercicios\n",
    "\n",
    "1. Una caja de tamaño normal puede guardar hasta 6 huevos. Escriba un bloque de código que calcule cuántas cajas requiere un granjero para almacenar 28 huevos. Determine tambien cuántos huevos serán guardados en la última caja incompleta y cuántos huevos adicionales harían falta para llenarla. ¿Qué ocurre si el número total de huevos `n_huevos` es 45 y el número de huevos por caja `n_huevos_caja` es 8?"
   ]
  },
  {
   "cell_type": "code",
   "execution_count": 3,
   "metadata": {},
   "outputs": [
    {
     "name": "stdout",
     "output_type": "stream",
     "text": [
      "Se necesitan 4 cajas para almacenar los huevos. En la última caja se almacenan 4 y harían falta 2 para completarla.\n"
     ]
    }
   ],
   "source": [
    "# ----- Desarrolle su código a continuación -----\n",
    "n_huevos = 28 \n",
    "n_huevos_caja = 6\n",
    "cajas_necesarias = int(n_huevos/n_huevos_caja) \n",
    "huevos_ultima_caja = n_huevos % n_huevos_caja\n",
    "huevos_faltantes = n_huevos_caja - huevos_ultima_caja\n",
    "respuesta = f'Se necesitan {cajas_necesarias} cajas para almacenar los huevos. En la última caja se almacenan {huevos_ultima_caja} y harían falta {huevos_faltantes} para completarla.'\n",
    "print(respuesta)"
   ]
  },
  {
   "cell_type": "code",
   "execution_count": 4,
   "metadata": {},
   "outputs": [
    {
     "name": "stdout",
     "output_type": "stream",
     "text": [
      "Se necesitan 5 cajas para almacenar los huevos. En la última caja se almacenan 5 y harían falta 3 para completarla.\n"
     ]
    }
   ],
   "source": [
    "# ----- Desarrolle su código a continuación -----\n",
    "n_huevos = 45 \n",
    "n_huevos_caja = 8\n",
    "cajas_necesarias = int(n_huevos/n_huevos_caja) \n",
    "huevos_ultima_caja = n_huevos % n_huevos_caja\n",
    "huevos_faltantes = n_huevos_caja - huevos_ultima_caja\n",
    "respuesta = f'Se necesitan {cajas_necesarias} cajas para almacenar los huevos. En la última caja se almacenan {huevos_ultima_caja} y harían falta {huevos_faltantes} para completarla.'\n",
    "print(respuesta)"
   ]
  },
  {
   "cell_type": "markdown",
   "metadata": {},
   "source": [
    "2. Según la American Heart Association (AHA), la fórmula para calcular su frecuencia cardíaca máxima en pulsaciones por minuto es 220 menos su edad en años. Su frecuencia cardíaca objetivo debería estar entre el 50-85% de su frecuencia cárdiaca máxima. Escriba un código que recibe la edad del usuario y calcula la frecuencia cardíaca máxima y el rango de su frecuencia óptima. "
   ]
  },
  {
   "cell_type": "code",
   "execution_count": 7,
   "metadata": {},
   "outputs": [
    {
     "name": "stdout",
     "output_type": "stream",
     "text": [
      "La frecuencia cardíaca máxima para su edad es 196 pulsaciones por minuto. Su rango objetivo está entre 98 y 167 pulsaciones por minuto.\n"
     ]
    }
   ],
   "source": [
    "# ----- Desarrolle su código a continuación -----\n",
    "edad_usuario = int(input(\"Ingrese su edad en años\"))\n",
    "freq_max = 220 - edad_usuario\n",
    "freq_opt_min, freq_opt_max = 0.5*freq_max, 0.85*freq_max\n",
    "respuesta = f'La frecuencia cardíaca máxima para su edad es {freq_max} pulsaciones por minuto. Su rango objetivo está entre {freq_opt_min:.0f} y {freq_opt_max:.0f} pulsaciones por minuto.'\n",
    "print(respuesta)"
   ]
  },
  {
   "cell_type": "markdown",
   "metadata": {},
   "source": [
    "3. Escriba un código que reciba como entrada del usuario las calificaciones de tres materias del usuario. Después de esto, el código debería mostrar el promedio de las tres materias así como el nombre de la materia con calificación más alta y más baja."
   ]
  },
  {
   "cell_type": "code",
   "execution_count": 19,
   "metadata": {},
   "outputs": [
    {
     "name": "stdout",
     "output_type": "stream",
     "text": [
      "El promedio de calificaciones es 4.17. La materia más alta es Educacion fisica y la más baja es Ingles.\n"
     ]
    }
   ],
   "source": [
    "materia1 = input('Ingrese el nombre de la primera materia seguido de su calificación. Ejemplo -- Inglés:4.5')\n",
    "materia2 = input('Ingrese el nombre de la segunda materia seguido de su calificación. Ejemplo -- Inglés:4.5')\n",
    "materia3 = input('Ingrese el nombre de la tercera materia seguido de su calificación. Ejemplo -- Inglés:4.5')\n",
    "\n",
    "nom1, calificacion1 = materia1.split(':')\n",
    "nom2, calificacion2 = materia2.split(':')\n",
    "nom3, calificacion3 = materia3.split(':')\n",
    "\n",
    "calificacion1, calificacion2, calificacion3 = float(calificacion1), float(calificacion2), float(calificacion3)\n",
    "promedio = (calificacion1+calificacion2+calificacion3)/3\n",
    "\n",
    "nombres = [nom1,nom2,nom3]\n",
    "calificaciones = [calificacion1,calificacion2,calificacion3]\n",
    "\n",
    "idx_alta = calificaciones.index(max(calificaciones))\n",
    "idx_baja = calificaciones.index(min(calificaciones))\n",
    "materia_mas_alta = nombres[idx_alta]\n",
    "materia_mas_baja = nombres[idx_baja]\n",
    "\n",
    "print(f'El promedio de calificaciones es {promedio:.2f}. La materia más alta es {materia_mas_alta} y la más baja es {materia_mas_baja}.')\n",
    "\n"
   ]
  }
 ],
 "metadata": {
  "kernelspec": {
   "display_name": ".venv",
   "language": "python",
   "name": "python3"
  },
  "language_info": {
   "codemirror_mode": {
    "name": "ipython",
    "version": 3
   },
   "file_extension": ".py",
   "mimetype": "text/x-python",
   "name": "python",
   "nbconvert_exporter": "python",
   "pygments_lexer": "ipython3",
   "version": "3.13.1"
  }
 },
 "nbformat": 4,
 "nbformat_minor": 2
}
