{
 "cells": [
  {
   "cell_type": "markdown",
   "metadata": {},
   "source": [
    "# **Introducción al análisis de datos en Python** \n",
    "#### Profesor: Juan Pablo Salas"
   ]
  },
  {
   "cell_type": "markdown",
   "metadata": {},
   "source": [
    "## Clase 5. Ideas avanzadas en Pandas y visualización"
   ]
  },
  {
   "cell_type": "markdown",
   "metadata": {},
   "source": [
    "### Aplicar funciones a las columnas\n",
    "En Pandas, el método `apply` se utiliza para aplicar una función a una serie o a un dataframe. El método `apply` toma como argumento una función y la aplica a cada elemento de la serie o del dataframe, devolviendo una nueva serie o dataframe con los resultados de la función aplicada a cada elemento.\n",
    "\n",
    "La función que se aplica en el método `apply` puede ser una función lambda o una función definida por el usuario. Esta función debe tomar como argumento un elemento de la serie o dataframe y devolver el resultado de aplicar la función al elemento.\n",
    "\n",
    "El método `apply` se puede aplicar de varias formas en un dataframe:\n",
    "\n",
    "- Aplicar una función a una columna específica: Se puede utilizar el método `apply` en una columna específica de un dataframe utilizando la siguiente sintaxis:\n",
    "\n",
    "```python\n",
    "dataframe[\"nombre_columna\"].apply(funcion)\n",
    "```\n",
    "\n",
    "Donde \"nombre_columna\" es el nombre de la columna en la que se desea aplicar la función y \"funcion\" es la función que se desea aplicar a cada elemento de la columna.\n",
    "\n",
    "- Aplicar una función a un dataframe completo: Se puede utilizar el método `apply` en un dataframe completo utilizando la siguiente sintaxis:\n",
    "\n",
    "```python\n",
    "dataframe.apply(funcion)\n",
    "```\n",
    "\n",
    "Donde \"funcion\" es la función que se desea aplicar a cada elemento del dataframe.\n",
    "\n",
    "- Aplicar una función a una fila específica: Se puede utilizar el método `apply` en una fila específica de un dataframe utilizando la siguiente sintaxis:\n",
    "\n",
    "```python\n",
    "dataframe.loc[etiqueta_fila].apply(funcion)\n",
    "```\n",
    "\n",
    "Donde \"etiqueta_fila\" es la etiqueta de la fila en la que se desea aplicar la función y \"funcion\" es la función que se desea aplicar a cada elemento de la fila.\n",
    "\n",
    "- el método `apply` también puede ser utilizado con funciones **lambda**, que son funciones anónimas y pequeñas que se definen dentro de una línea de código. Por ejemplo, si se quisiera aplicar una función **lambda** que tome como entrada una cadena de caracteres y devuelva la versión en mayúsculas de la misma, se podría utilizar el método apply de la siguiente manera:\n",
    "\n",
    "```python\n",
    "dataframe['nombre_columna'].apply(lambda x: x.upper())\n",
    "```\n",
    "\n",
    "<center>\n",
    "<div>\n",
    "<img src=\"./img/lambda.PNG\" width=\"200\"/>\n",
    "</div>\n",
    "</center>\n",
    "\n",
    "<center>\n",
    "<div>\n",
    "<img src=\"./img/lambda1.PNG\" width=\"200\"/>\n",
    "</div>\n",
    "</center>\n",
    "\n",
    "El método `apply` también puede aplicarse a múltiples columnas o filas utilizando la opción axis. Si `axis=0`, la función se aplicará a cada columna del dataframe. Si `axis=1`, la función se aplicará a cada fila del dataframe.\n",
    "\n",
    "En resumen, el método `apply` se utiliza en Pandas para aplicar una función a una serie o dataframe, y puede utilizarse de diferentes maneras para aplicar la función.\n",
    "\n"
   ]
  },
  {
   "cell_type": "code",
   "execution_count": 248,
   "metadata": {},
   "outputs": [],
   "source": [
    "import pandas as pd\n",
    "import numpy as np"
   ]
  },
  {
   "cell_type": "code",
   "execution_count": null,
   "metadata": {},
   "outputs": [],
   "source": [
    "dict_df = {'nombres':['Jose Urrutia López','Sebastian Carvajal López','Hamadys Gómez López','Carlos Tobón López','Julian Pardo López','Juan Lopez López'],\n",
    "           'edad':[24.0,25.0,32.0,45.0,52.0,20.0],\n",
    "           'peso':[75,80,60,86,72,70]}\n",
    "data = pd.DataFrame(dict_df)\n",
    "data['nueva_variable']=pd.cut(data['edad'],bins=[0,25,33,55,np.inf],labels=['Rango 1: 18-24','Rango 2: 25-32','Rango 3: 33-54','Rango 4: 55+'],right=False).astype('str')\n",
    "data['edad_dias']=data['edad']*365\n",
    "data = data.reset_index()\n",
    "data['nueva_variable2']=np.nan\n",
    "data"
   ]
  },
  {
   "cell_type": "code",
   "execution_count": null,
   "metadata": {},
   "outputs": [],
   "source": [
    "# Multiplicar x 2 todas las celdas\n",
    "data.apply(lambda i: i*2)"
   ]
  },
  {
   "cell_type": "code",
   "execution_count": null,
   "metadata": {},
   "outputs": [],
   "source": [
    "# Convertir la edad de días a años\n",
    "data[\"edad_dias\"].apply(lambda x: x/365)"
   ]
  },
  {
   "cell_type": "code",
   "execution_count": 252,
   "metadata": {},
   "outputs": [],
   "source": [
    "def funcion_ayuda(x):\n",
    "    return x/365"
   ]
  },
  {
   "cell_type": "code",
   "execution_count": null,
   "metadata": {},
   "outputs": [],
   "source": [
    "data.edad_dias.apply(funcion_ayuda)"
   ]
  },
  {
   "cell_type": "code",
   "execution_count": null,
   "metadata": {},
   "outputs": [],
   "source": [
    "data[['edad','peso']].apply(np.mean)"
   ]
  },
  {
   "cell_type": "code",
   "execution_count": null,
   "metadata": {},
   "outputs": [],
   "source": [
    "data[['edad','peso']].max()"
   ]
  },
  {
   "cell_type": "markdown",
   "metadata": {},
   "source": [
    "### Eliminar filas y columnas"
   ]
  },
  {
   "cell_type": "code",
   "execution_count": null,
   "metadata": {},
   "outputs": [],
   "source": [
    "data"
   ]
  },
  {
   "cell_type": "code",
   "execution_count": null,
   "metadata": {},
   "outputs": [],
   "source": [
    "# Borre la fila identificada como 1\n",
    "data.drop(1) "
   ]
  },
  {
   "cell_type": "code",
   "execution_count": 258,
   "metadata": {},
   "outputs": [],
   "source": [
    "# Borre la columna nueva_variable y nueva_variable2\n",
    "data.drop(columns = [\"index\", \"nueva_variable2\"], inplace = True) "
   ]
  },
  {
   "cell_type": "code",
   "execution_count": null,
   "metadata": {},
   "outputs": [],
   "source": [
    "data"
   ]
  },
  {
   "cell_type": "code",
   "execution_count": 260,
   "metadata": {},
   "outputs": [],
   "source": [
    "# Creemos un valor faltante\n",
    "data.loc[0, \"nombres\"] = np.nan"
   ]
  },
  {
   "cell_type": "code",
   "execution_count": null,
   "metadata": {},
   "outputs": [],
   "source": [
    "data"
   ]
  },
  {
   "cell_type": "code",
   "execution_count": null,
   "metadata": {},
   "outputs": [],
   "source": [
    "# Eliminamos las filas con valores faltantes\n",
    "data.dropna()"
   ]
  },
  {
   "cell_type": "markdown",
   "metadata": {},
   "source": [
    "### Exportar bases de datos\n",
    "1. [to_excel()](https://pandas.pydata.org/pandas-docs/stable/reference/api/pandas.DataFrame.to_excel.html)\n",
    "2. [to_csv()](https://pandas.pydata.org/pandas-docs/stable/reference/api/pandas.DataFrame.to_csv.html)\n",
    "3. [to_pickle](https://pandas.pydata.org/pandas-docs/stable/reference/api/pandas.DataFrame.to_pickle.html)"
   ]
  },
  {
   "cell_type": "code",
   "execution_count": 263,
   "metadata": {},
   "outputs": [],
   "source": [
    "data.to_excel('./data/data_export.xlsx',index=False)"
   ]
  },
  {
   "cell_type": "markdown",
   "metadata": {},
   "source": [
    "La función `pd.concat` en Pandas se utiliza para concatenar dos o más objetos de Pandas a lo largo de un eje específico. Los objetos de Pandas pueden ser dataframes o series. La concatenación implica unir los objetos uno al lado del otro o uno debajo del otro, dependiendo del eje especificado.\n",
    "\n",
    "La sintaxis básica de `pd.concat` es la siguiente:\n",
    "```python\n",
    "pd.concat(objetos, axis = 0, join = 'outer', ignore_index = False)\n",
    "```\n",
    "Donde:\n",
    "\n",
    "- `objetos`: es una lista o tupla de objetos de Pandas que se desea concatenar.\n",
    "- `axis`: especifica el eje a lo largo del cual se realizará la concatenación. Si `axis=0`, se concatenarán los objetos uno debajo del otro (verticalmente). Si `axis=1`, se concatenarán los objetos uno al lado del otro (horizontalmente).\n",
    "- `join`: especifica el tipo de unión que se desea realizar. Puede ser `'inner'` (intersección de los índices), `'outer'` (unión de los índices) o `'left'` (unión de los índices del objeto en el lado izquierdo).\n",
    "- `ignore_index`: especifica si se deben ignorar los índices originales y crear nuevos índices. Si es `True`, se crearán nuevos índices.\n",
    "\n",
    "La función `pd.concat` **es muy útil para combinar dataframes o series que tienen columnas o índices en común**. Por ejemplo, si se tienen dos dataframes que comparten las mismas columnas y se desea combinarlos verticalmente, se podría utilizar el siguiente código:"
   ]
  },
  {
   "cell_type": "code",
   "execution_count": null,
   "metadata": {},
   "outputs": [],
   "source": [
    "df1 = pd.DataFrame({'A': [1, 2], 'B': [3, 4]})\n",
    "df1"
   ]
  },
  {
   "cell_type": "code",
   "execution_count": null,
   "metadata": {},
   "outputs": [],
   "source": [
    "df2 = pd.DataFrame({'A': [5, 6], 'B': [7, 8]})\n",
    "df2"
   ]
  },
  {
   "cell_type": "code",
   "execution_count": null,
   "metadata": {},
   "outputs": [],
   "source": [
    "nuevo_df = pd.concat([df1, df2], axis=0)\n",
    "nuevo_df.reset_index(drop=True)"
   ]
  },
  {
   "cell_type": "markdown",
   "metadata": {},
   "source": [
    "En este caso, se utilizará `axis=0` para concatenar los dataframes verticalmente. Los índices de los dataframes originales se conservarán en el nuevo dataframe.\n",
    "\n",
    "La función `pd.concat` también puede ser utilizada para combinar dataframes o series que no tienen columnas o índices en común. En este caso, las columnas o índices faltantes se rellenarán con valores nulos. Por ejemplo, si se quisiera combinar horizontalmente dos dataframes que tienen diferentes columnas, se podría utilizar el siguiente código:"
   ]
  },
  {
   "cell_type": "code",
   "execution_count": null,
   "metadata": {},
   "outputs": [],
   "source": [
    "df1 = pd.DataFrame({'A': [1, 2], 'B': [3, 4]})\n",
    "df1"
   ]
  },
  {
   "cell_type": "code",
   "execution_count": null,
   "metadata": {},
   "outputs": [],
   "source": [
    "df2 = pd.DataFrame({'C': [5, 6], 'D': [7, 8]})\n",
    "df2"
   ]
  },
  {
   "cell_type": "code",
   "execution_count": null,
   "metadata": {},
   "outputs": [],
   "source": [
    "nuevo_df = pd.concat([df1, df2], axis=1)\n",
    "nuevo_df"
   ]
  },
  {
   "cell_type": "markdown",
   "metadata": {},
   "source": [
    "En este caso, se utilizará `axis=1` para concatenar los dataframes horizontalmente. Como los dataframes no tienen columnas en común, se crearán nuevas columnas con valores nulos.\n",
    "\n",
    "En resumen, la función `pd.concat` en Pandas es una herramienta muy útil para combinar dataframes o series a lo largo de un eje específico. Se puede utilizar con diferentes parámetros para personalizar la unión de los objetos y crear un nuevo dataframe o serie."
   ]
  },
  {
   "cell_type": "code",
   "execution_count": null,
   "metadata": {},
   "outputs": [],
   "source": [
    "data"
   ]
  },
  {
   "cell_type": "code",
   "execution_count": 271,
   "metadata": {},
   "outputs": [],
   "source": [
    "# Creemos una nueva fila\n",
    "nueva_fila = pd.DataFrame({\"nombres\": \"Andrea Saldarriaga\", \"sexo\": \"F\", \"edad\": 32, \"peso\": 60,'nueva_variable':'Rango 2: 25-32','edad_dias':12000}, index = [0])"
   ]
  },
  {
   "cell_type": "code",
   "execution_count": null,
   "metadata": {},
   "outputs": [],
   "source": [
    "nueva_fila"
   ]
  },
  {
   "cell_type": "code",
   "execution_count": null,
   "metadata": {},
   "outputs": [],
   "source": [
    "data = pd.concat((data, nueva_fila), axis = 0)\n",
    "data"
   ]
  },
  {
   "cell_type": "code",
   "execution_count": 274,
   "metadata": {},
   "outputs": [],
   "source": [
    "# Creemos una fila duplicada\n",
    "data = pd.concat((data, data.iloc[1:2,]), axis = 0)"
   ]
  },
  {
   "cell_type": "code",
   "execution_count": null,
   "metadata": {},
   "outputs": [],
   "source": [
    "data"
   ]
  },
  {
   "cell_type": "code",
   "execution_count": null,
   "metadata": {},
   "outputs": [],
   "source": [
    "# Eliminemos duplicados. Conserva la primera observación\n",
    "data = data.drop_duplicates()\n",
    "data"
   ]
  },
  {
   "cell_type": "code",
   "execution_count": null,
   "metadata": {},
   "outputs": [],
   "source": [
    "data.reset_index(drop=True,inplace=True)\n",
    "data"
   ]
  },
  {
   "cell_type": "code",
   "execution_count": 278,
   "metadata": {},
   "outputs": [],
   "source": [
    "data2 = pd.DataFrame({'direccion':['Cra 14','Calle 3','Carrera 4','Calle 72','Carrera 24','Calle 127']})"
   ]
  },
  {
   "cell_type": "code",
   "execution_count": null,
   "metadata": {},
   "outputs": [],
   "source": [
    "data2"
   ]
  },
  {
   "cell_type": "code",
   "execution_count": null,
   "metadata": {},
   "outputs": [],
   "source": [
    "pd.concat([data,data2],axis=1)"
   ]
  },
  {
   "cell_type": "code",
   "execution_count": null,
   "metadata": {},
   "outputs": [],
   "source": [
    "data.drop_duplicates(subset='sexo')"
   ]
  },
  {
   "cell_type": "code",
   "execution_count": null,
   "metadata": {},
   "outputs": [],
   "source": [
    "data"
   ]
  },
  {
   "cell_type": "code",
   "execution_count": null,
   "metadata": {},
   "outputs": [],
   "source": [
    "data2"
   ]
  },
  {
   "cell_type": "code",
   "execution_count": null,
   "metadata": {},
   "outputs": [],
   "source": [
    "pd.concat([data,data2],axis=1)"
   ]
  },
  {
   "cell_type": "markdown",
   "metadata": {},
   "source": [
    "### Unir bases de datos (`merge`)"
   ]
  },
  {
   "cell_type": "markdown",
   "metadata": {},
   "source": [
    "En la sesión anterior aprendimos como concatenar filas y columnas de diferentes bases de datos. Para hacer esto es necesario que la cantidad de columnas y filas, respectivamente, de los dataframes a juntar sean los mismos y que sus índices o llaves también lo sean.\n",
    "\n",
    "No obstante, muchas veces cuando trate de juntar bases de datos, notará que no necesariamente todas las llaves están presentes en ambas bases de datos, o que incluso, a cada fila de la base izquierda, querrá pegarle más de una fila de la base derecha, o viceversa.\n",
    "\n",
    "A la hora de hacer pegues más complejos, hablamos de que vamos a utilizar un `merge`. \n",
    "\n",
    "Comencemos con la sintaxis del `merge`. Para pegar dos bases de datos, usted usará un comando similar al siguiente:\n",
    "\n",
    "```python\n",
    "pd.merge(left = left_dataframe, right = right_dataframe, on = \"alguna(s)_columa(s)\", how = \"left|right|inner|outer\")`\n",
    "```\n",
    "\n",
    "Los argumentos que toma la función son:\n",
    "- `left`: dataframe que va de primero.\n",
    "- `right`: dataframe que va de segundo.\n",
    "- `on`: es la columna o la lista de columnas que determinan qué filas de una tabla coinciden con qué filas de la segunda tabla. Comúnmente a estas variables se les llaman las llaves del pegue y debe identificar a cada observación de forma única. A veces, las columnas que desea fusionar tienen nombres diferentes en los datos. Por ejemplo, suponga que tiene dos bases de datos, una que registra el dinero mensual gastado por persona en almacenes Éxito y otra que tiene características personales de las personas. Usted podría tratar de juntar ambas bases con el identificador de fila o persona de cada base que en este caso podría ser la cédula, sin embargo, en un dataframe tal vez la variable se llame \"cc\" mientras que en el otro puede que se llame \"cédula\". En esos casos, puede especificar los nombres de columna por separado para cada marco de datos utilizando los argumentos \"left_on\" y \"right_on\".\n",
    "- `how`: es el método a usar, por defecto Pandas usa el método \"inner\". Más adelante exploraremos más al respecto.\n",
    "\n",
    "<center>\n",
    "<div>\n",
    "<img src=\"./img/merges.png\" width=\"400\"/>\n",
    "</div>\n",
    "</center>\n",
    "\n",
    "Tenemos cuatro grandes métodos para relacionar las bases porque no siempre tenemos una coincidencia uno a uno (one to one) entre las filas. Estos cuatro métodos afectan la forma en que Pandas trata los datos no coincidentes y eso es lo que veremos más adelante.\n",
    "\n",
    "<center>\n",
    "<div>\n",
    "<img src=\"./img/one-many.png\" width=\"400\"/>\n",
    "</div>\n",
    "</center>\n",
    "\n"
   ]
  },
  {
   "cell_type": "code",
   "execution_count": 285,
   "metadata": {},
   "outputs": [],
   "source": [
    "# ejemplos de pegues\n",
    "left_dataframe = pd.DataFrame({\"ID\": [1,2,3,4], \"left_side\": \"Izquierda\"})\n",
    "right_dataframe = pd.DataFrame({\"ID\": [3,4,5,6], \"right_side\": \"Derecha\"})"
   ]
  },
  {
   "cell_type": "code",
   "execution_count": null,
   "metadata": {},
   "outputs": [],
   "source": [
    "left_dataframe"
   ]
  },
  {
   "cell_type": "code",
   "execution_count": null,
   "metadata": {},
   "outputs": [],
   "source": [
    "right_dataframe"
   ]
  },
  {
   "cell_type": "markdown",
   "metadata": {},
   "source": [
    "#### Left merge\n",
    "En un Left merge lo que más nos interesa son los datos del lado IZQUIERDO a los cuales queremos pegarles columnas de una base de datos en el lado DERECHO.\n",
    "\n",
    "Para hacer eso, cortamos las filas en el marco de datos DERECHO y pegamos partes en el marco de datos IZQUIERDO. Recuerde, nos preocupamos principalmente por el lado IZQUIERDO y solo queremos datos del lado DERECHO si tiene alguna de las mismas ID. Entonces, si algo en el marco de datos DERECHO no coincide o no existe, entonces tenemos que hacer cosas para mantener las columnas de la misma longitud. Lo hacemos agregando NaN para llenar el vacío o descartando algunas filas por completo.\n",
    "\n",
    "En este ejemplo, el lado IZQUIERDO tiene los ID 1, 2, 3 y 4:\n",
    "- El lado DERECHO no tiene ID 1 o 2, por lo que agregamos NaN porque necesitamos que las columnas tengan la misma longitud.\n",
    "- El lado DERECHO tiene datos para los ID 3 y 4, así que lo agregamos como una nueva columna.\n",
    "- El lado IZQUIERDO no tiene ID 5 o 6, por lo que no necesitamos esa información del DERECHO y se descarta.\n",
    "\n",
    "<center>\n",
    "<div>\n",
    "<img src=\"./img/left_merge.png\" width=\"400\"/>\n",
    "</div>\n",
    "</center>"
   ]
  },
  {
   "cell_type": "code",
   "execution_count": null,
   "metadata": {},
   "outputs": [],
   "source": [
    "# Left merge con \"ID\" como llave\n",
    "pd.merge(left = left_dataframe, right = right_dataframe, on = \"ID\", how = \"left\")"
   ]
  },
  {
   "cell_type": "markdown",
   "metadata": {},
   "source": [
    "#### Right merge\n",
    "Los Right merges funcionan igual que los Left merges, la diferencia es que nos preocupamos principalmente por el lado DERECHO y nos gustaría agregar datos desde el IZQUIERDO si tienen ID coincidentes.\n",
    "\n",
    "<center>\n",
    "<div>\n",
    "<img src=\"./img/right_merge.png\" width=\"400\"/>\n",
    "</div>\n",
    "</center>"
   ]
  },
  {
   "cell_type": "code",
   "execution_count": null,
   "metadata": {},
   "outputs": [],
   "source": [
    "# Right merge con \"ID\" como llave\n",
    "pd.merge(left = left_dataframe, right = right_dataframe, on = \"ID\", how = \"right\")"
   ]
  },
  {
   "cell_type": "markdown",
   "metadata": {},
   "source": [
    "#### Inner merge\n",
    "Con un Inner merge, cortamos ambos marcos de datos y solo pegamos las cosas que coinciden. Si una ID no está en ambos marcos de datos, no la mantenemos y no agregamos NaN.\n",
    "\n",
    "<center>\n",
    "<img src=\"./img/inner_merge.png\" width=\"400\"/>\n",
    "</center>"
   ]
  },
  {
   "cell_type": "code",
   "execution_count": null,
   "metadata": {},
   "outputs": [],
   "source": [
    "# Inner merge con \"ID\" como llave\n",
    "pd.merge(left = left_dataframe, right = right_dataframe, on = \"ID\", how = \"inner\")"
   ]
  },
  {
   "cell_type": "markdown",
   "metadata": {},
   "source": [
    "#### Outer merge\n",
    "Con un Outer merge, cortamos ambos marcos de datos y mantenemos todo de ambos lados. Luego agregamos NaN para llenar los espacios en blanco.\n",
    "\n",
    "<center>\n",
    "<img src=\"./img/outer_merge.png\" width=\"400\"/>\n",
    "</center>"
   ]
  },
  {
   "cell_type": "code",
   "execution_count": null,
   "metadata": {},
   "outputs": [],
   "source": [
    "# Outer merge con \"ID\" como llave\n",
    "pd.merge(left = left_dataframe, right = right_dataframe, on = \"ID\", how = \"outer\")"
   ]
  },
  {
   "cell_type": "markdown",
   "metadata": {},
   "source": [
    "### Groupby\n"
   ]
  },
  {
   "cell_type": "markdown",
   "metadata": {},
   "source": [
    "Uno de los métodos más útiles para los analistas de datos es `.groupby()`. Este método permite dividir los datos en grupos y a cada uno de estos aplicarles una función de agregación.\n",
    "\n",
    "Veamos el siguiente ejemplo para entender este concepto mejor:"
   ]
  },
  {
   "cell_type": "code",
   "execution_count": null,
   "metadata": {},
   "outputs": [],
   "source": [
    "#dir_path = './data'\n",
    "dir_path = '.' #GoogleColab"
   ]
  },
  {
   "cell_type": "code",
   "execution_count": null,
   "metadata": {},
   "outputs": [],
   "source": [
    "df = pd.read_excel(f\"{dir_path}/ejemplo_groupby.xlsx\")\n",
    "df"
   ]
  },
  {
   "cell_type": "code",
   "execution_count": null,
   "metadata": {},
   "outputs": [],
   "source": [
    "df.animal.unique()"
   ]
  },
  {
   "cell_type": "markdown",
   "metadata": {},
   "source": [
    "Note que tenemos un `dataframe` con cuatro tipos de animales: \n",
    "- alligators (cocodrilos 🐊)\n",
    "- cats (gatos 🐱)\n",
    "- snakes (serpientes 🐍)\n",
    "- hamsters (hamsters 🐹)\n",
    "\n",
    "Cada una de las filas indican un chequeo en el veterinario donde se registra edad, peso y largo del animal. Por ende, usted como investigador quiere estudiar algunas estadísticas descriptivas por especie. Por ejemplo ¿Cuál es el peso promedio de cada especie?"
   ]
  },
  {
   "cell_type": "code",
   "execution_count": 294,
   "metadata": {},
   "outputs": [],
   "source": [
    "# El primer paso es agrupar por animal\n",
    "animal_groups = df.groupby(\"animal\")"
   ]
  },
  {
   "cell_type": "code",
   "execution_count": null,
   "metadata": {},
   "outputs": [],
   "source": [
    "animal_groups"
   ]
  },
  {
   "cell_type": "code",
   "execution_count": null,
   "metadata": {},
   "outputs": [],
   "source": [
    "# Veamos la conformación de cada uno de los grupos. ¿En qué filas aparece cada animal?\n",
    "animal_groups.groups"
   ]
  },
  {
   "cell_type": "code",
   "execution_count": null,
   "metadata": {},
   "outputs": [],
   "source": [
    "df"
   ]
  },
  {
   "cell_type": "code",
   "execution_count": null,
   "metadata": {},
   "outputs": [],
   "source": [
    "# El segundo paso es aplicar una funcion agregadora\n",
    "# ¿Cuál es la media del peso por especie?\n",
    "animal_groups[\"weight\"].mean()"
   ]
  },
  {
   "cell_type": "code",
   "execution_count": null,
   "metadata": {},
   "outputs": [],
   "source": [
    "animal_groups.mean()['weight']"
   ]
  },
  {
   "cell_type": "markdown",
   "metadata": {},
   "source": [
    "Visualmente, lo que sucedió fue lo siguiente:\n",
    "\n",
    "1. Se agrupa los valores únicos de la columna animal.\n",
    "<center>\n",
    "<img src = \"./img/groupby1.jpg\" width = \"400\">\n",
    "</center>\n",
    "\n",
    "2. La segmentación de cada grupo se vería de la siguiente manera\n",
    "<center>\n",
    "<img src = \"./img/groupby2.jpg\" width = \"400\">\n",
    "</center>\n",
    "\n",
    "3. Se le asignan las otras variables/columnas a cada grupo\n",
    "<center>\n",
    "<img src = \"./img/groupby3.jpg\" width = \"400\">\n",
    "</center>\n",
    "\n",
    "4. Se aplica la función agregadora `.mean()` sobre la columna `weight` de cada grupo.\n",
    "<center>\n",
    "<img src = \"./img/groupby4.jpg\" width = \"400\">\n",
    "</center>\n"
   ]
  },
  {
   "cell_type": "code",
   "execution_count": null,
   "metadata": {},
   "outputs": [],
   "source": [
    "df"
   ]
  },
  {
   "cell_type": "code",
   "execution_count": null,
   "metadata": {},
   "outputs": [],
   "source": [
    "# Probemos otros ejemplos\n",
    "# ¿Cuál es la edad mediana por animal?\n",
    "df.groupby(\"animal\")[\"age\"].median()"
   ]
  },
  {
   "cell_type": "code",
   "execution_count": null,
   "metadata": {},
   "outputs": [],
   "source": [
    "# ¿Cuál es el largo máximo por animal?\n",
    "df.groupby(\"animal\")[\"length\"].max()"
   ]
  },
  {
   "cell_type": "code",
   "execution_count": null,
   "metadata": {},
   "outputs": [],
   "source": [
    "# ¿Cuál es la desviación estándar del peso por animal?\n",
    "df.groupby(\"animal\")['weight'].std()"
   ]
  },
  {
   "cell_type": "code",
   "execution_count": null,
   "metadata": {},
   "outputs": [],
   "source": [
    "df.groupby(\"animal\")[['weight','length']].max()"
   ]
  },
  {
   "cell_type": "markdown",
   "metadata": {},
   "source": [
    "#### Método .agg()\n",
    "El método .agg() se puede utilizar después de aplicar un método .groupby() en pandas para realizar operaciones de agregación en los datos de cada grupo.\n",
    "\n",
    "La sintaxis general de la función .groupby() es la siguiente:\n",
    "```python\n",
    "dataframe.groupby(columnas).agg(funciones)\n",
    "```\n",
    "Donde:\n",
    "- dataframe: el DataFrame al que se aplicará la función `groupby()`.\n",
    "- columnas: la(s) columna(s) que se utilizarán para agrupar los datos.\n",
    "- funciones: la(s) operación(es) de agregación que se aplicarán a los datos agrupados.\n",
    "\n",
    "Por ejemplo, para calcular la media, el máximo y el mínimo de las columnas de peso y longitud del DataFrame agrupado por la columna 'animal', se puede utilizar la siguiente sintaxis:"
   ]
  },
  {
   "cell_type": "code",
   "execution_count": null,
   "metadata": {},
   "outputs": [],
   "source": [
    "df.groupby(\"animal\")[['weight','length']].agg([\"min\", \"mean\", \"max\"])"
   ]
  },
  {
   "cell_type": "code",
   "execution_count": null,
   "metadata": {},
   "outputs": [],
   "source": [
    "df.groupby(\"animal\").agg({'weight': ['mean', 'max'], 'length': 'std', \n",
    "                                     \"age\": lambda x: np.percentile(x, 50)})"
   ]
  },
  {
   "cell_type": "code",
   "execution_count": null,
   "metadata": {},
   "outputs": [],
   "source": [
    "# Otra sintaxis, en vez de un diccionario, usar tuplas\n",
    "# (nombre_columna,funcion)\n",
    "df.groupby(\"animal\").agg(peso_promedio = (\"weight\", 'mean'), \n",
    "                                   peso_maximo = (\"weight\", 'max'),\n",
    "                                   edad_mediana = (\"age\", lambda x: np.percentile(x, 50)))"
   ]
  },
  {
   "cell_type": "markdown",
   "metadata": {},
   "source": [
    "### Gráficos rápidos\n",
    "Desde `pandas`, cuando tengamos un `dataframe` podemos construir gráficos rápidamente sin la necesidad de escribir mucho código. Esto se debe a que `pandas` se integra con la librería para visualización en Python `matplotlib`.\n",
    "\n",
    "El método más importante para hacer gráficos desde `pandas` es `. plot()`. Por ejemplo, si tienes un DataFrame con dos columnas, 'x' e 'y', puedes crear un gráfico de dispersión con el siguiente código:\n"
   ]
  },
  {
   "cell_type": "code",
   "execution_count": null,
   "metadata": {},
   "outputs": [],
   "source": [
    "data = {'var_ind': [1, 2, 3, 4, 5], 'var_dep': [2, 4, 6, 8, 10]}\n",
    "df = pd.DataFrame(data)\n",
    "df"
   ]
  },
  {
   "cell_type": "markdown",
   "metadata": {},
   "source": [
    "Gráfico de dispersión"
   ]
  },
  {
   "cell_type": "code",
   "execution_count": null,
   "metadata": {},
   "outputs": [],
   "source": [
    "df.plot(x = 'var_ind', y = 'var_dep', kind = 'scatter')\n",
    "#Scatter -> Dispersión"
   ]
  },
  {
   "cell_type": "markdown",
   "metadata": {},
   "source": [
    "Este código creará un gráfico de dispersión con los valores de 'x' en el eje horizontal y los valores de 'y' en el eje vertical.\n",
    "\n",
    "Puedes personalizar tu gráfico utilizando los métodos de `Matplotlib`. Por ejemplo, para cambiar el color de los puntos, puedes utilizar el parámetro `color`:"
   ]
  },
  {
   "cell_type": "code",
   "execution_count": null,
   "metadata": {},
   "outputs": [],
   "source": [
    "df.plot(x = 'var_ind', y = 'var_dep', kind = 'scatter', color = 'darkblue')"
   ]
  },
  {
   "cell_type": "markdown",
   "metadata": {},
   "source": [
    "La función `plot()` de Pandas es utilizada para visualizar datos de un DataFrame o Series. La sintaxis básica es la siguiente:\n",
    "\n",
    "```python\n",
    "DataFrame.plot(x = None, y = None, kind = 'line', ax = None, subplots = False, layout = None, figsize = None, use_index = True, title = None, grid = None, legend = True, style = None, logx = False, logy = False, loglog = False, xticks = None, yticks = None, xlim = None, ylim = None, rot = None, xerr = None, yerr = None, label = None, secondary_y = False, **kwds)\n",
    "```\n",
    "A continuación, te explico los principales parámetros de esta función:\n",
    "\n",
    "- `x` y `y`: son las etiquetas o nombres de las columnas que se utilizarán para el eje x y el eje y, respectivamente.\n",
    "- `kind`: es el tipo de gráfico que se quiere generar, como 'line' para un gráfico de líneas, 'bar' para un gráfico de barras, 'scatter' para un gráfico de dispersión, etc. Por defecto, el valor es 'line'.\n",
    "- `figsize`: es un parámetro opcional que permite especificar el tamaño del gráfico en pulgadas. El valor por defecto es (6,4).\n",
    "- `title`: es un parámetro opcional que permite agregar un título al gráfico.\n",
    "- `xlabel` y `ylabel`: son parámetros opcionales que permiten agregar etiquetas a los ejes x e y del gráfico.\n",
    "- `xlim` y `ylim`: son parámetros opcionales que permiten establecer los límites del eje x e y, respectivamente.\n",
    "- `legend`: es un parámetro opcional que permite controlar si se muestra o no la leyenda en el gráfico. El valor por defecto es True.\n",
    "- `style`: es un parámetro opcional que permite especificar el estilo de la línea o puntos en el gráfico.\n",
    "- `logx`, `logy` y `loglog`: son parámetros opcionales que permiten mostrar los ejes en una escala logarítmica en lugar de lineal.\n",
    "- `subplots`: es un parámetro opcional que permite generar un gráfico para cada columna de un DataFrame y presentarlos en un arreglo de subplots.\n",
    "\n",
    "Hay muchos otros parámetros opcionales que se pueden utilizar con la función `plot()`. Te recomiendo revisar la [documentación oficial de Pandas para obtener más detalles sobre la función y sus parámetros](https://pandas.pydata.org/docs/reference/api/pandas.DataFrame.plot.html)."
   ]
  },
  {
   "cell_type": "code",
   "execution_count": null,
   "metadata": {},
   "outputs": [],
   "source": [
    "base_de_datos = pd.read_csv(f'{dir_path}/info_accidentes.csv')\n",
    "base_de_datos['Fecha'] = pd.to_datetime(base_de_datos['Fecha'])"
   ]
  },
  {
   "cell_type": "markdown",
   "metadata": {},
   "source": [
    "Esta base de datos nos muestra la información de accidentes vehiculares ocurridos en Bogotá durante el año 2016. Incluye información sobre la localidad, fecha y hora del accidente así como información del tiempo atmosférico y del número de víctimas que este ocasionó."
   ]
  },
  {
   "cell_type": "code",
   "execution_count": null,
   "metadata": {},
   "outputs": [],
   "source": [
    "base_de_datos.head()"
   ]
  },
  {
   "cell_type": "code",
   "execution_count": null,
   "metadata": {},
   "outputs": [],
   "source": [
    "base_de_datos.groupby(\"Fecha\").size().reset_index(name = \"Número de accidentes\")"
   ]
  },
  {
   "cell_type": "code",
   "execution_count": 229,
   "metadata": {},
   "outputs": [],
   "source": [
    "import matplotlib.pyplot as plt"
   ]
  },
  {
   "cell_type": "code",
   "execution_count": null,
   "metadata": {},
   "outputs": [],
   "source": [
    "base_de_datos.groupby(\"Fecha\").size().reset_index(name = \"Número de accidentes\").plot(x = \"Fecha\", y = \"Número de accidentes\", kind = \"line\")"
   ]
  },
  {
   "cell_type": "code",
   "execution_count": null,
   "metadata": {},
   "outputs": [],
   "source": [
    "# Cambiemosle el tamaño al gráfico\n",
    "base_de_datos.groupby(\"Fecha\").size().reset_index(name = \"Número de accidentes\").plot(x = \"Fecha\", y = \"Número de accidentes\", kind = \"line\", figsize = (20, 5))"
   ]
  },
  {
   "cell_type": "code",
   "execution_count": null,
   "metadata": {},
   "outputs": [],
   "source": [
    "# Pongamosle título\n",
    "base_de_datos.groupby(\"Fecha\").size().reset_index(name = \"Número de accidentes\") \\\n",
    "    .plot(x = \"Fecha\", y = \"Número de accidentes\", kind = \"line\", figsize = (20, 5), \n",
    "          title = \"Accidentes diarios en Bogotá (2016)\")"
   ]
  },
  {
   "cell_type": "code",
   "execution_count": null,
   "metadata": {},
   "outputs": [],
   "source": [
    "# Quitemosle la legenda\n",
    "base_de_datos.groupby(\"Fecha\").size().reset_index(name = \"Número de accidentes\") \\\n",
    "    .plot(x = \"Fecha\", y = \"Número de accidentes\", kind = \"line\", figsize = (20, 5), \n",
    "          title = \"Accidentes diarios en Bogotá (2016)\", legend = False)"
   ]
  },
  {
   "cell_type": "code",
   "execution_count": null,
   "metadata": {},
   "outputs": [],
   "source": [
    "base_de_datos.groupby(\"Fecha\").size().reset_index(name = \"Número de accidentes\")"
   ]
  },
  {
   "cell_type": "code",
   "execution_count": null,
   "metadata": {},
   "outputs": [],
   "source": [
    "# Pongamosle color a la línea\n",
    "base_de_datos.groupby(\"Fecha\").size().reset_index(name = \"Número de accidentes\") \\\n",
    "    .plot(x = \"Fecha\", y = \"Número de accidentes\", kind = \"line\", figsize = (20, 5), \n",
    "          title = \"Accidentes diarios en Bogotá (2016)\", legend = False,\n",
    "          color = \"darkred\")"
   ]
  },
  {
   "cell_type": "markdown",
   "metadata": {},
   "source": [
    "¿Cómo hago para saber qué colores existen? Por defecto, `pandas` y `matplotlib` tienen algunas palabras asociadas a algunos [colores](https://matplotlib.org/stable/gallery/color/named_colors.html)\n",
    "\n",
    "<center>\n",
    "<div>\n",
    "<img src=\"https://raw.githubusercontent.com/edco-proyectos-analitica-python/IntroAnalisisDatos2025Q1/refs/heads/main/clase_5/img/colors.png\" width=\"400\"/>\n",
    "</div>\n",
    "</center>"
   ]
  },
  {
   "cell_type": "code",
   "execution_count": null,
   "metadata": {},
   "outputs": [],
   "source": [
    "# Pongamosle color a la línea\n",
    "base_de_datos.groupby(\"Fecha\").size().reset_index(name = \"Número de accidentes\") \\\n",
    "    .plot(x = \"Fecha\", y = \"Número de accidentes\", kind = \"line\", figsize = (20, 5), \n",
    "          title = \"Accidentes diarios en Bogotá (2016)\", legend = False,\n",
    "          color = \"cadetblue\")"
   ]
  },
  {
   "cell_type": "code",
   "execution_count": null,
   "metadata": {},
   "outputs": [],
   "source": [
    "# Pongamosle color a la línea\n",
    "base_de_datos.groupby(\"Fecha\").size().reset_index(name = \"Número de accidentes\") \\\n",
    "    .plot(x = \"Fecha\", y = \"Número de accidentes\", kind = \"line\", figsize = (20, 5), \n",
    "          title = \"Accidentes diarios en Bogotá (2016)\", legend = False,\n",
    "          color = \"purple\")"
   ]
  },
  {
   "cell_type": "code",
   "execution_count": null,
   "metadata": {},
   "outputs": [],
   "source": [
    "# Pongamosle color a la línea\n",
    "base_de_datos.groupby(\"Fecha\").size().reset_index(name = \"Número de accidentes\") \\\n",
    "    .plot(x = \"Fecha\", y = \"Número de accidentes\", kind = \"line\", figsize = (20, 5), \n",
    "          title = \"Accidentes diarios en Bogotá (2016)\", legend = False,\n",
    "          color = \"forestgreen\")"
   ]
  },
  {
   "cell_type": "markdown",
   "metadata": {},
   "source": [
    "Sin embargo, puede crear cualquier color que quiera a partir del [código HEX](https://www.google.com/search?q=HEX+color&rlz=1C1CHZN_enCO1034CO1034&sxsrf=APwXEdfScUmp_Pr0bIhq9xV33av52uCWKA%3A1680729192725&ei=aOQtZOv1K--FwbkP1PCygAM&ved=0ahUKEwjryfuT1JP-AhXvQjABHVS4DDAQ4dUDCA8&uact=5&oq=HEX+color&gs_lcp=Cgxnd3Mtd2l6LXNlcnAQAzIHCAAQigUQQzIHCAAQigUQQzIHCAAQigUQQzIHCAAQigUQQzIGCAAQBxAeMgcIABCKBRBDMggIABCABBDLATIICAAQgAQQywEyBggAEAcQHjIGCAAQBxAeOgoIABBHENYEELADOgoIABCKBRCwAxBDSgQIQRgAUNYPWL0RYPYUaAJwAXgAgAHFAYgBlQSSAQMwLjOYAQCgAQHIAQrAAQE&sclient=gws-wiz-serp)\n",
    "\n",
    "\n",
    "<center>\n",
    "<div>\n",
    "<img src=\"https://raw.githubusercontent.com/edco-proyectos-analitica-python/IntroAnalisisDatos2025Q1/refs/heads/main/clase_5/img/HEX.png\" width=\"400\"/>\n",
    "</div>\n",
    "</center>"
   ]
  },
  {
   "cell_type": "code",
   "execution_count": null,
   "metadata": {},
   "outputs": [],
   "source": [
    "# Pongamosle color a la línea\n",
    "base_de_datos.groupby(\"Fecha\").size().reset_index(name = \"Número de accidentes\") \\\n",
    "    .plot(x = \"Fecha\", y = \"Número de accidentes\", kind = \"line\", figsize = (20, 5),\n",
    "          title = \"Accidentes diarios en Bogotá (2016)\", legend = False,\n",
    "          color = \"#fcba03\")"
   ]
  },
  {
   "cell_type": "markdown",
   "metadata": {},
   "source": [
    "Exploremos otro tipo de gráficos como los histogramas. Veamos cómo se distribuyen la cantidad de accidentes por horas del día"
   ]
  },
  {
   "cell_type": "code",
   "execution_count": 188,
   "metadata": {},
   "outputs": [],
   "source": [
    "base_de_datos['Mes'] = base_de_datos['Fecha'].dt.month"
   ]
  },
  {
   "cell_type": "code",
   "execution_count": null,
   "metadata": {},
   "outputs": [],
   "source": [
    "base_de_datos.Mes.plot(kind='hist')"
   ]
  },
  {
   "cell_type": "code",
   "execution_count": null,
   "metadata": {},
   "outputs": [],
   "source": [
    "base_de_datos['HoraOcurrenciaCorregida'] = pd.to_datetime(base_de_datos.HoraOcurrencia)"
   ]
  },
  {
   "cell_type": "code",
   "execution_count": null,
   "metadata": {},
   "outputs": [],
   "source": [
    "# Hay dos picos de accidentalidad: Al rededor de las 7-8 am y 2-3 pm\n",
    "base_de_datos[\"HoraOcurrenciaCorregida\"].dt.hour.plot(kind = \"hist\")"
   ]
  },
  {
   "cell_type": "code",
   "execution_count": null,
   "metadata": {},
   "outputs": [],
   "source": [
    "base_de_datos[\"HoraOcurrenciaCorregida\"].dt.hour.plot(kind = \"hist\", color = \"navy\", \n",
    "                                          title = \"Distribución de los accidentes por hora del día\")"
   ]
  },
  {
   "cell_type": "code",
   "execution_count": null,
   "metadata": {},
   "outputs": [],
   "source": [
    "base_de_datos.head()"
   ]
  },
  {
   "cell_type": "code",
   "execution_count": null,
   "metadata": {},
   "outputs": [],
   "source": [
    "base_de_datos.plot(x = \"TotalMuertos\", y = \"TotalHeridos\", kind = \"scatter\", \n",
    "                xlabel = \"Número de muertos\", ylabel = \"Número de heridos\",\n",
    "                title = \"Relación entre heridos y muertos\")"
   ]
  },
  {
   "cell_type": "code",
   "execution_count": null,
   "metadata": {},
   "outputs": [],
   "source": [
    "# Creemos un gráfico de barras en donde se visualice la cantidad de accidentes por tipo\n",
    "tipos_accidentes = base_de_datos[\"GravedadNombre\"].value_counts().reset_index()\n",
    "tipos_accidentes"
   ]
  },
  {
   "cell_type": "code",
   "execution_count": null,
   "metadata": {},
   "outputs": [],
   "source": [
    "tipos_accidentes.values"
   ]
  },
  {
   "cell_type": "code",
   "execution_count": null,
   "metadata": {},
   "outputs": [],
   "source": [
    "tipos_accidentes.plot(x = \"GravedadNombre\", y = \"count\", kind = \"bar\", \n",
    "                      xlabel = \"Tipo de accidente\", ylabel = \"Cantidad\", \n",
    "                      color = \"navy\", legend = False, \n",
    "                      title = \"Cantidad de accidentes por tipo\",\n",
    "                      figsize = (10, 6),rot=45)"
   ]
  },
  {
   "cell_type": "code",
   "execution_count": 198,
   "metadata": {},
   "outputs": [],
   "source": [
    "# ¿Cómo pasamos estos números a porcentajes?\n",
    "tipos_accidentes[\"Proporción\"] = tipos_accidentes[\"count\"]/tipos_accidentes[\"count\"].sum()"
   ]
  },
  {
   "cell_type": "code",
   "execution_count": null,
   "metadata": {},
   "outputs": [],
   "source": [
    "tipos_accidentes"
   ]
  },
  {
   "cell_type": "code",
   "execution_count": null,
   "metadata": {},
   "outputs": [],
   "source": [
    "# Si vamos a hacer un gráfico de torta el índice debe reflejar las categoría a visualizar\n",
    "tipos_accidentes.set_index(\"GravedadNombre\").plot(y = \"Proporción\", kind = \"pie\")"
   ]
  },
  {
   "cell_type": "markdown",
   "metadata": {},
   "source": [
    "También podemos importar [paletas usando el paquete seaborn](https://seaborn.pydata.org/tutorial/color_palettes.html)\n",
    "\n",
    "<center>\n",
    "<div>\n",
    "<img src=\"img/palette.png\" width=\"800\"/>\n",
    "</div>\n",
    "</center>"
   ]
  },
  {
   "cell_type": "code",
   "execution_count": 201,
   "metadata": {},
   "outputs": [],
   "source": [
    "#!pip install seaborn"
   ]
  },
  {
   "cell_type": "code",
   "execution_count": null,
   "metadata": {},
   "outputs": [],
   "source": [
    "import seaborn as sns\n",
    "sns.color_palette(\"Spectral\")"
   ]
  },
  {
   "cell_type": "code",
   "execution_count": null,
   "metadata": {},
   "outputs": [],
   "source": [
    "sns.color_palette(\"Spectral\", as_cmap = True)"
   ]
  },
  {
   "cell_type": "code",
   "execution_count": null,
   "metadata": {},
   "outputs": [],
   "source": [
    "sns.color_palette(\"Paired\")"
   ]
  },
  {
   "cell_type": "code",
   "execution_count": null,
   "metadata": {},
   "outputs": [],
   "source": [
    "sns.color_palette(\"Blues\")"
   ]
  },
  {
   "cell_type": "code",
   "execution_count": null,
   "metadata": {},
   "outputs": [],
   "source": [
    "sns.color_palette(\"viridis\")"
   ]
  },
  {
   "cell_type": "code",
   "execution_count": null,
   "metadata": {},
   "outputs": [],
   "source": [
    "sns.color_palette('RdYlGn')"
   ]
  },
  {
   "cell_type": "code",
   "execution_count": null,
   "metadata": {},
   "outputs": [],
   "source": [
    "sns.color_palette('RdYlGn', as_cmap = True)"
   ]
  },
  {
   "cell_type": "code",
   "execution_count": null,
   "metadata": {},
   "outputs": [],
   "source": [
    "sns.color_palette('RdYlGn_r')"
   ]
  },
  {
   "cell_type": "code",
   "execution_count": null,
   "metadata": {},
   "outputs": [],
   "source": [
    "tipos_accidentes.set_index(\"GravedadNombre\").plot(y = \"Proporción\", kind = \"pie\", \n",
    "                                         colors = sns.color_palette('RdYlGn_r'))"
   ]
  },
  {
   "cell_type": "code",
   "execution_count": null,
   "metadata": {},
   "outputs": [],
   "source": [
    "tipos_accidentes.set_index(\"GravedadNombre\").plot(y = \"Proporción\", kind = \"pie\", \n",
    "                                         colors = sns.color_palette('RdYlGn_r', n_colors = 3))"
   ]
  },
  {
   "cell_type": "code",
   "execution_count": null,
   "metadata": {},
   "outputs": [],
   "source": [
    "# También se pueden poner los labels de forma manual en vez de usar el índice\n",
    "tipos_accidentes.plot(y = \"Proporción\", \n",
    "                      labels = [\"Daños\", \"Heridos\", \"Muertos\"], \n",
    "                      kind = \"pie\", \n",
    "                      colors = [\"#a8dadc\", \"#1d3557\", \"#e63946\"],\n",
    "                      ylabel = \"\",\n",
    "                      title = \"Gravedad de los accidentes\",\n",
    "                      legend = False)"
   ]
  },
  {
   "cell_type": "code",
   "execution_count": null,
   "metadata": {},
   "outputs": [],
   "source": [
    "# Podemos añadirle los porcentajes\n",
    "tipos_accidentes.plot(y = \"Proporción\", \n",
    "                      labels = [\"Daños\", \"Heridos\", \"Muertos\"], \n",
    "                      kind = \"pie\", \n",
    "                      colors = [\"#a8dadc\", \"#1d3557\", \"#e63946\"],\n",
    "                      ylabel = \"\",\n",
    "                      title = \"Gravedad de los accidentes\",\n",
    "                      legend = False,\n",
    "                      autopct = '%1.0f%%',)"
   ]
  },
  {
   "cell_type": "code",
   "execution_count": null,
   "metadata": {},
   "outputs": [],
   "source": [
    "# Podemos mover el pie\n",
    "tipos_accidentes.plot(y = \"Proporción\", \n",
    "                      labels = [\"Daños\", \"Heridos\", \"Muertos\"], \n",
    "                      kind = \"pie\", \n",
    "                      colors = [\"#a8dadc\", \"#1d3557\", \"#e63946\"],\n",
    "                      ylabel = \"\",\n",
    "                      title = \"Gravedad de los accidentes\",\n",
    "                      legend = False,\n",
    "                      autopct = '%1.2f%%',\n",
    "                      startangle = 90)"
   ]
  },
  {
   "cell_type": "code",
   "execution_count": null,
   "metadata": {},
   "outputs": [],
   "source": [
    "# Podemos mover el pie\n",
    "tipos_accidentes.plot(y = \"Proporción\", \n",
    "                      labels = [\"Daños\", \"Heridos\", \"Muertos\"], \n",
    "                      kind = \"pie\", \n",
    "                      colors = [\"#a8dadc\", \"#1d3557\", \"#e63946\"],\n",
    "                      ylabel = \"\",\n",
    "                      title = \"Gravedad de los accidentes\",\n",
    "                      legend = False,\n",
    "                      autopct = '%1.2f%%',\n",
    "                      startangle = 180)"
   ]
  },
  {
   "cell_type": "code",
   "execution_count": null,
   "metadata": {},
   "outputs": [],
   "source": [
    "# Podemos mover la legenda\n",
    "tipos_accidentes.plot(y = \"Proporción\", \n",
    "                      labels = [\"Daños\", \"Heridos\", \"Muertos\"], \n",
    "                      kind = \"pie\", \n",
    "                      colors = [\"#a8dadc\", \"#1d3557\", \"#e63946\"],\n",
    "                      ylabel = \"\",\n",
    "                      title = \"Gravedad de los accidentes\",\n",
    "                      legend = False,\n",
    "                      startangle = 180,\n",
    "                      # Distancia de los labels al centro\n",
    "                      labeldistance = 0.4)"
   ]
  },
  {
   "cell_type": "code",
   "execution_count": null,
   "metadata": {},
   "outputs": [],
   "source": [
    "# Podemos mover los porcentajes\n",
    "tipos_accidentes.plot(y = \"Proporción\", \n",
    "                      labels = [\"Daños\", \"Heridos\", \"Muertos\"], \n",
    "                      kind = \"pie\", \n",
    "                      colors = [\"#a8dadc\", \"#1d3557\", \"#e63946\"],\n",
    "                      ylabel = \"\",\n",
    "                      title = \"Gravedad de los accidentes\",\n",
    "                      legend = False,\n",
    "                      startangle = 180,\n",
    "                      # Distancia de los labels al centro\n",
    "                      labeldistance = 1.4,\n",
    "                      # Distancia de los porcentajes al centro\n",
    "                      autopct = '%1.2f%%',\n",
    "                      pctdistance = 1.2\n",
    "                      )"
   ]
  },
  {
   "cell_type": "code",
   "execution_count": null,
   "metadata": {},
   "outputs": [],
   "source": [
    "# Separar las porciones\n",
    "tipos_accidentes.plot(y = \"Proporción\", \n",
    "                      labels = [\"Daños\", \"Heridos\", \"Muertos\"], \n",
    "                      kind = \"pie\", \n",
    "                      colors = [\"#a8dadc\", \"#1d3557\", \"#e63946\"],\n",
    "                      ylabel = \"\",\n",
    "                      title = \"Gravedad de los accidentes\",\n",
    "                      legend = False,\n",
    "                      startangle = 180,\n",
    "                      # Distancia de los labels al centro\n",
    "                      labeldistance = 1.4,\n",
    "                      # Distancia de los porcentajes al centro\n",
    "                      autopct = '%1.2f%%',\n",
    "                      pctdistance = 1.2,\n",
    "                      # Mover porciones\n",
    "                      explode = [0.1, 0.1, 0.1]\n",
    "                      )"
   ]
  },
  {
   "cell_type": "code",
   "execution_count": null,
   "metadata": {},
   "outputs": [],
   "source": [
    "# Resaltar una porción\n",
    "tipos_accidentes.plot(y = \"Proporción\", \n",
    "                      labels = [\"Daños\", \"Heridos\", \"Muertos\"], \n",
    "                      kind = \"pie\", \n",
    "                      colors = [\"#a8dadc\", \"#1d3557\", \"#e63946\"],\n",
    "                      ylabel = \"\",\n",
    "                      title = \"Gravedad de los accidentes \\n\\n\",\n",
    "                      legend = False,\n",
    "                      startangle = 180,\n",
    "                      # Distancia de los labels al centro\n",
    "                      labeldistance = 1.4,\n",
    "                      # Distancia de los porcentajes al centro\n",
    "                      autopct = '%1.2f%%',\n",
    "                      pctdistance = 1.2,\n",
    "                      # Mover porciones\n",
    "                      explode = [0, 0, 0.15]\n",
    "                      )"
   ]
  },
  {
   "cell_type": "code",
   "execution_count": null,
   "metadata": {},
   "outputs": [],
   "source": [
    "fig, eje = plt.subplots()\n",
    "# Resaltar una porción\n",
    "tipos_accidentes.plot(y = \"Proporción\", \n",
    "                      labels = [\"Daños\", \"Heridos\", \"Muertos\"], \n",
    "                      kind = \"pie\", \n",
    "                      colors = [\"#a8dadc\", \"#1d3557\", \"#e63946\"],\n",
    "                      ylabel = \"\",\n",
    "                      title = \"Gravedad de los accidentes \\n\\n\",\n",
    "                      legend = False,\n",
    "                      startangle = 180,\n",
    "                      # Distancia de los labels al centro\n",
    "                      labeldistance = 1.4,\n",
    "                      # Distancia de los porcentajes al centro\n",
    "                      autopct = '%1.2f%%',\n",
    "                      pctdistance = 1.2,\n",
    "                      # Mover porciones\n",
    "                      explode = [0, 0, 0.15],\n",
    "                      ax=eje)\n",
    "fig.savefig('./data/figura_gravedad.png')"
   ]
  },
  {
   "cell_type": "code",
   "execution_count": null,
   "metadata": {},
   "outputs": [],
   "source": [
    "base_de_datos"
   ]
  },
  {
   "cell_type": "code",
   "execution_count": null,
   "metadata": {},
   "outputs": [],
   "source": [
    "sns.color_palette('Spectral')[0]"
   ]
  },
  {
   "cell_type": "code",
   "execution_count": null,
   "metadata": {},
   "outputs": [],
   "source": [
    "fig, ejes = plt.subplots(3,figsize=(10,15))\n",
    "\n",
    "base_de_datos[base_de_datos.GravedadNombre=='Con Heridos'].HoraOcurrenciaCorregida.dt.hour.plot(kind='hist',grid=False,ax=ejes[0],style='default',title='Distribución de horas para accidentes Con Heridos')\n",
    "base_de_datos[base_de_datos.GravedadNombre=='Solo Daños'].HoraOcurrenciaCorregida.dt.hour.plot(kind='hist',grid=False,color=sns.color_palette('Spectral')[1],ax=ejes[1],title='Distribución de horas para accidentes Solo Daños')\n",
    "base_de_datos[base_de_datos.GravedadNombre=='Con Muertos'].HoraOcurrenciaCorregida.dt.hour.plot(kind='hist',grid=False,color=sns.color_palette('Spectral')[2],ax=ejes[2],title='Distribución de horas para accidentes Con Muertos')\n",
    "\n",
    "\n",
    "fig.savefig('./data/dist_horas_categoria.pdf')"
   ]
  },
  {
   "cell_type": "code",
   "execution_count": null,
   "metadata": {},
   "outputs": [],
   "source": [
    "import matplotlib.patches as patches\n",
    "import matplotlib.path as path\n",
    "\n",
    "fig, axs = plt.subplots(1)\n",
    "\n",
    "# histogram our data with numpy\n",
    "data = base_de_datos[base_de_datos.GravedadNombre=='Con Heridos'].HoraOcurrenciaCorregida.dt.hour.values\n",
    "n, bins = np.histogram(data, 50)\n",
    "\n",
    "# get the corners of the rectangles for the histogram\n",
    "left = bins[:-1]\n",
    "right = bins[1:]\n",
    "bottom = np.zeros(len(left))\n",
    "top = bottom + n\n",
    "\n",
    "# we need a (numrects x numsides x 2) numpy array for the path helper\n",
    "# function to build a compound path\n",
    "XY = np.array([[left, left, right, right], [bottom, top, top, bottom]]).T\n",
    "\n",
    "# get the Path object\n",
    "barpath = path.Path.make_compound_path_from_polys(XY)\n",
    "\n",
    "# make a patch out of it, don't add a margin at y=0\n",
    "patch = patches.PathPatch(barpath)\n",
    "patch.sticky_edges.y[:] = [0]\n",
    "axs.add_patch(patch)\n",
    "axs.autoscale_view()"
   ]
  },
  {
   "cell_type": "markdown",
   "metadata": {},
   "source": [
    "## Ejercicios adicionales"
   ]
  },
  {
   "cell_type": "markdown",
   "metadata": {},
   "source": [
    "### Información de accidentes de tránsito en Bogotá en el 2016"
   ]
  },
  {
   "cell_type": "markdown",
   "metadata": {},
   "source": [
    "A partir de la base de datos `info_accidentes.csv`, responda las siguientes preguntas:\n",
    "\n",
    "1. ¿Cuántos muertos hay registrados en la base de datos?\n",
    "2. ¿Cuántos heridos hay registrados en la base de datos?\n",
    "3. ¿Cuantos accidentes hubo en la localidad de Santa Fe? ¿Cuántos muertos y cuántos heridos dejaron estos accidentes en total?\n",
    "4. Explore la columna TipoTiempo, ¿cuál es la categoría en la que más ocurren accidentes?"
   ]
  }
 ],
 "metadata": {
  "kernelspec": {
   "display_name": ".venv",
   "language": "python",
   "name": "python3"
  },
  "language_info": {
   "codemirror_mode": {
    "name": "ipython",
    "version": 3
   },
   "file_extension": ".py",
   "mimetype": "text/x-python",
   "name": "python",
   "nbconvert_exporter": "python",
   "pygments_lexer": "ipython3",
   "version": "3.13.1"
  }
 },
 "nbformat": 4,
 "nbformat_minor": 2
}
